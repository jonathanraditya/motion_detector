{
 "cells": [
  {
   "cell_type": "code",
   "execution_count": 76,
   "id": "62f94c6a-a4ac-42f0-8be0-04cdce68f2cf",
   "metadata": {},
   "outputs": [],
   "source": [
    "from http.server import BaseHTTPRequestHandler, HTTPServer\n",
    "from urllib.parse import urlparse, parse_qs\n",
    "import sqlite3\n",
    "import os\n",
    "from datetime import datetime\n",
    "import pytz\n",
    "import hashlib\n",
    "import random"
   ]
  },
  {
   "cell_type": "markdown",
   "id": "932f7e7f-3f23-4849-9dc3-f333cff4e150",
   "metadata": {},
   "source": [
    "Class tree:\n",
    "-- GlobalOperations\n",
    "--- Sqlite\n",
    "---- Vibrateserver"
   ]
  },
  {
   "cell_type": "code",
   "execution_count": 131,
   "id": "9fb2f6d2-12f2-4d14-b0bd-eee77d0a5083",
   "metadata": {},
   "outputs": [],
   "source": [
    "class GlobalOperations:\n",
    "    def __init__(self):\n",
    "        self.tz = pytz.timezone('Asia/Jakarta')\n",
    "    \n",
    "    def datetime_now(self):\n",
    "        return datetime.now(self.tz)\n",
    "    \n",
    "    def gethash(self, string):\n",
    "        '''sha256'''\n",
    "        # sanity check\n",
    "        if not isinstance(string, str):\n",
    "            string = str(string)            \n",
    "        return hashlib.sha256(bytes(string, 'utf-8')).hexdigest()\n",
    "\n",
    "class Sqlite(GlobalOperations):\n",
    "    def __init__(self):\n",
    "        self.conn = None\n",
    "        self.table = None\n",
    "        \n",
    "    def set_table(self, table):\n",
    "        self.table = table\n",
    "        \n",
    "    def create_connection(self, db_path):\n",
    "        try:\n",
    "            self.conn = sqlite3.connect(db_path)\n",
    "        except Error as e:\n",
    "            print(f'Failed to create connection. {e}')\n",
    "    \n",
    "    def insert_value(self, cols, values):\n",
    "        # Sanity check\n",
    "        if self.conn != None & self.table != None:\n",
    "            if not all(isinstance(i, list) for i in [cols, values]):\n",
    "                cols_insert = ','.join(cols)\n",
    "                data_placeholder = ['?' for _ in cols]\n",
    "                data_placeholder_insert = ','.join(data_placeholder)\n",
    "                values_insert = f'{self.datetime_now().timestamp()}' + ','.join(values)\n",
    "                sql = f'''insert into {self.table} (datetime, {cols_insert}) values ('?',{data_placeholder_insert})'''\n",
    "                cur = self.conn.cursor()\n",
    "                cur.execute(sql, values_insert)\n",
    "                self.conn.commit()\n",
    "            else:\n",
    "                print('Makesure that colnames is in python list format `[...,...,...]`')\n",
    "        else:\n",
    "            print('Please initialize connection and table name first.')\n",
    "    \n",
    "    \n",
    "class Vibrateserver(Sqlite, BaseHTTPRequestHandler):\n",
    "    def __init__(self):\n",
    "        self.root_dir = os.getcwd()\n",
    "        self.db = 'records.db'\n",
    "        \n",
    "        self.db_path = os.path.join(self.root_dir, self.db)\n",
    "\n",
    "        self.in_sw = {\n",
    "            'two_corner':['front_facing','side_facing','room_entry'],\n",
    "            'two_entry':['left_sensor','right_sensor'],\n",
    "            'one_perimeter':['carport_perimeter','large_gate','small_gate','garden_fence','garden_outer_perimeter'],\n",
    "            'one_main':['parlor_window','main_door_upper','main_door_lower'],\n",
    "            'one_hallway':['hallway_door','hallway_window','kitchen_lamp_switch','outdoor_lamp_switch','parlor_lamp_switch']\n",
    "        }\n",
    "        self.out_gb = 0\n",
    "        self.out_sw = {\n",
    "            'one_hallway':{\n",
    "                'kitchen_lamp_switch':0,\n",
    "                'outdoor_lamp_switch':0,\n",
    "                'parlor_lamp_switch':0\n",
    "            }\n",
    "        }\n",
    "        random.seed(1209218402348023984239874891)\n",
    "        self.key = self.gethash(random.random())\n",
    "        self.key = self.gethash(self.key)\n",
    "        \n",
    "        self.host = '0.0.0.0'\n",
    "        self.port = 5000\n",
    "        \n",
    "    def do_GET(self):\n",
    "        try:\n",
    "            qs = parse_qs(urlparse(self.path).query)\n",
    "            print(qs)\n",
    "            path = urlparse(self.path).path\n",
    "            hwid = qs['hwid'][0]\n",
    "\n",
    "            if qs['key'][0] == self.key:\n",
    "                print('key correct')\n",
    "                print(self.path)\n",
    "                # Input handler\n",
    "                if path == f'/input':\n",
    "                    print('go to input handler')\n",
    "                    if hwid in self.in_sw.keys():\n",
    "                        payload_split = qs['payload'].split('z')\n",
    "                        if len(payload_split) == len(self.in_sw[hwid]):\n",
    "                            self.set_table(hwid)\n",
    "                            self.insert_value(self.in_sw[hwid], payload_split)\n",
    "                        else:\n",
    "                            self.send_error(500, 'Access denied')\n",
    "                    else:\n",
    "                        self.send_error(500, 'Access denied')\n",
    "\n",
    "                # Output handler\n",
    "                elif path == f'/output':\n",
    "                    print('output handler')\n",
    "                    if qs['hwid'][0] in self.out_sw.keys():\n",
    "                        print('output handler corret hwid')\n",
    "                        # self.send_response(200)\n",
    "                        # self.send_header('Content-type', 'text/html')\n",
    "                        # self.end_headers()\n",
    "                        # self.wfile.write(bytes('0,0,1', 'utf-8'))\n",
    "                    else:\n",
    "                        self.send_error(500, 'Access denied')\n",
    "            else:\n",
    "                print('full error')\n",
    "                self.send_error(500, 'Access denied')\n",
    "           \n",
    "        except:\n",
    "            print('exception')\n",
    "            self.send_error(500, 'Access denied')"
   ]
  },
  {
   "cell_type": "code",
   "execution_count": 132,
   "id": "2c5440ed-aa43-4e66-9201-f7c1917deb7a",
   "metadata": {},
   "outputs": [
    {
     "data": {
      "text/plain": [
       "'431f8a00bb579d4691b19efe332e21d8b61ff25e8a1698d81bf95a756660f3ee'"
      ]
     },
     "execution_count": 132,
     "metadata": {},
     "output_type": "execute_result"
    }
   ],
   "source": [
    "vs = Vibrateserver()\n",
    "vs.key"
   ]
  },
  {
   "cell_type": "code",
   "execution_count": 94,
   "id": "416ffab7-5693-4aa9-984e-e7cad8980453",
   "metadata": {},
   "outputs": [
    {
     "name": "stdout",
     "output_type": "stream",
     "text": [
      "Server started http://0.0.0.0:5000\n"
     ]
    }
   ],
   "source": [
    "webServer = HTTPServer((vs.host, vs.port), vs)\n",
    "print(f'Server started http://{vs.host}:{vs.port}')"
   ]
  },
  {
   "cell_type": "code",
   "execution_count": 133,
   "id": "d3a80760-d6fa-4a45-822a-8aad74ae519b",
   "metadata": {},
   "outputs": [
    {
     "data": {
      "text/plain": [
       "'0.0.0.0'"
      ]
     },
     "execution_count": 133,
     "metadata": {},
     "output_type": "execute_result"
    }
   ],
   "source": [
    "vs.host"
   ]
  },
  {
   "cell_type": "code",
   "execution_count": null,
   "id": "a4ee8491-137b-42c5-8039-39ed4dd1de81",
   "metadata": {},
   "outputs": [],
   "source": [
    "try:\n",
    "    webServer.serve_forever()\n",
    "except KeyboardInterrupt:\n",
    "    pass"
   ]
  },
  {
   "cell_type": "code",
   "execution_count": 134,
   "id": "7f9de62e-e949-44fd-8b83-ebb396fbdc23",
   "metadata": {},
   "outputs": [],
   "source": [
    "vs.path = 'http://localhost:5000/output?key=431f8a00bb579d4691b19efe332e21d8b61ff25e8a1698d81bf95a756660f3ee&hwid=two_corner'"
   ]
  },
  {
   "cell_type": "code",
   "execution_count": 135,
   "id": "1f2d0a2f-c7a4-497c-94ef-1c4144fe631e",
   "metadata": {},
   "outputs": [
    {
     "name": "stdout",
     "output_type": "stream",
     "text": [
      "{'key': ['431f8a00bb579d4691b19efe332e21d8b61ff25e8a1698d81bf95a756660f3ee'], 'hwid': ['two_corner']}\n",
      "key correct\n",
      "http://localhost:5000/output?key=431f8a00bb579d4691b19efe332e21d8b61ff25e8a1698d81bf95a756660f3ee&hwid=two_corner\n",
      "output handler\n",
      "exception\n"
     ]
    },
    {
     "ename": "AttributeError",
     "evalue": "'Vibrateserver' object has no attribute 'client_address'",
     "output_type": "error",
     "traceback": [
      "\u001b[1;31m---------------------------------------------------------------------------\u001b[0m",
      "\u001b[1;31mAttributeError\u001b[0m                            Traceback (most recent call last)",
      "\u001b[1;32m~\\AppData\\Local\\Temp/ipykernel_19560/3465049101.py\u001b[0m in \u001b[0;36mdo_GET\u001b[1;34m(self)\u001b[0m\n\u001b[0;32m    108\u001b[0m                     \u001b[1;32melse\u001b[0m\u001b[1;33m:\u001b[0m\u001b[1;33m\u001b[0m\u001b[1;33m\u001b[0m\u001b[0m\n\u001b[1;32m--> 109\u001b[1;33m                         \u001b[0mself\u001b[0m\u001b[1;33m.\u001b[0m\u001b[0msend_error\u001b[0m\u001b[1;33m(\u001b[0m\u001b[1;36m500\u001b[0m\u001b[1;33m,\u001b[0m \u001b[1;34m'Access denied'\u001b[0m\u001b[1;33m)\u001b[0m\u001b[1;33m\u001b[0m\u001b[1;33m\u001b[0m\u001b[0m\n\u001b[0m\u001b[0;32m    110\u001b[0m             \u001b[1;32melse\u001b[0m\u001b[1;33m:\u001b[0m\u001b[1;33m\u001b[0m\u001b[1;33m\u001b[0m\u001b[0m\n",
      "\u001b[1;32m~\\anaconda3\\lib\\http\\server.py\u001b[0m in \u001b[0;36msend_error\u001b[1;34m(self, code, message, explain)\u001b[0m\n\u001b[0;32m    456\u001b[0m             \u001b[0mexplain\u001b[0m \u001b[1;33m=\u001b[0m \u001b[0mlongmsg\u001b[0m\u001b[1;33m\u001b[0m\u001b[1;33m\u001b[0m\u001b[0m\n\u001b[1;32m--> 457\u001b[1;33m         \u001b[0mself\u001b[0m\u001b[1;33m.\u001b[0m\u001b[0mlog_error\u001b[0m\u001b[1;33m(\u001b[0m\u001b[1;34m\"code %d, message %s\"\u001b[0m\u001b[1;33m,\u001b[0m \u001b[0mcode\u001b[0m\u001b[1;33m,\u001b[0m \u001b[0mmessage\u001b[0m\u001b[1;33m)\u001b[0m\u001b[1;33m\u001b[0m\u001b[1;33m\u001b[0m\u001b[0m\n\u001b[0m\u001b[0;32m    458\u001b[0m         \u001b[0mself\u001b[0m\u001b[1;33m.\u001b[0m\u001b[0msend_response\u001b[0m\u001b[1;33m(\u001b[0m\u001b[0mcode\u001b[0m\u001b[1;33m,\u001b[0m \u001b[0mmessage\u001b[0m\u001b[1;33m)\u001b[0m\u001b[1;33m\u001b[0m\u001b[1;33m\u001b[0m\u001b[0m\n",
      "\u001b[1;32m~\\anaconda3\\lib\\http\\server.py\u001b[0m in \u001b[0;36mlog_error\u001b[1;34m(self, format, *args)\u001b[0m\n\u001b[0;32m    558\u001b[0m \u001b[1;33m\u001b[0m\u001b[0m\n\u001b[1;32m--> 559\u001b[1;33m         \u001b[0mself\u001b[0m\u001b[1;33m.\u001b[0m\u001b[0mlog_message\u001b[0m\u001b[1;33m(\u001b[0m\u001b[0mformat\u001b[0m\u001b[1;33m,\u001b[0m \u001b[1;33m*\u001b[0m\u001b[0margs\u001b[0m\u001b[1;33m)\u001b[0m\u001b[1;33m\u001b[0m\u001b[1;33m\u001b[0m\u001b[0m\n\u001b[0m\u001b[0;32m    560\u001b[0m \u001b[1;33m\u001b[0m\u001b[0m\n",
      "\u001b[1;32m~\\anaconda3\\lib\\http\\server.py\u001b[0m in \u001b[0;36mlog_message\u001b[1;34m(self, format, *args)\u001b[0m\n\u001b[0;32m    578\u001b[0m         sys.stderr.write(\"%s - - [%s] %s\\n\" %\n\u001b[1;32m--> 579\u001b[1;33m                          (self.address_string(),\n\u001b[0m\u001b[0;32m    580\u001b[0m                           \u001b[0mself\u001b[0m\u001b[1;33m.\u001b[0m\u001b[0mlog_date_time_string\u001b[0m\u001b[1;33m(\u001b[0m\u001b[1;33m)\u001b[0m\u001b[1;33m,\u001b[0m\u001b[1;33m\u001b[0m\u001b[1;33m\u001b[0m\u001b[0m\n",
      "\u001b[1;32m~\\anaconda3\\lib\\http\\server.py\u001b[0m in \u001b[0;36maddress_string\u001b[1;34m(self)\u001b[0m\n\u001b[0;32m    609\u001b[0m \u001b[1;33m\u001b[0m\u001b[0m\n\u001b[1;32m--> 610\u001b[1;33m         \u001b[1;32mreturn\u001b[0m \u001b[0mself\u001b[0m\u001b[1;33m.\u001b[0m\u001b[0mclient_address\u001b[0m\u001b[1;33m[\u001b[0m\u001b[1;36m0\u001b[0m\u001b[1;33m]\u001b[0m\u001b[1;33m\u001b[0m\u001b[1;33m\u001b[0m\u001b[0m\n\u001b[0m\u001b[0;32m    611\u001b[0m \u001b[1;33m\u001b[0m\u001b[0m\n",
      "\u001b[1;31mAttributeError\u001b[0m: 'Vibrateserver' object has no attribute 'client_address'",
      "\nDuring handling of the above exception, another exception occurred:\n",
      "\u001b[1;31mAttributeError\u001b[0m                            Traceback (most recent call last)",
      "\u001b[1;32m~\\AppData\\Local\\Temp/ipykernel_19560/571916718.py\u001b[0m in \u001b[0;36m<module>\u001b[1;34m\u001b[0m\n\u001b[1;32m----> 1\u001b[1;33m \u001b[0mvs\u001b[0m\u001b[1;33m.\u001b[0m\u001b[0mdo_GET\u001b[0m\u001b[1;33m(\u001b[0m\u001b[1;33m)\u001b[0m\u001b[1;33m\u001b[0m\u001b[1;33m\u001b[0m\u001b[0m\n\u001b[0m",
      "\u001b[1;32m~\\AppData\\Local\\Temp/ipykernel_19560/3465049101.py\u001b[0m in \u001b[0;36mdo_GET\u001b[1;34m(self)\u001b[0m\n\u001b[0;32m    114\u001b[0m         \u001b[1;32mexcept\u001b[0m\u001b[1;33m:\u001b[0m\u001b[1;33m\u001b[0m\u001b[1;33m\u001b[0m\u001b[0m\n\u001b[0;32m    115\u001b[0m             \u001b[0mprint\u001b[0m\u001b[1;33m(\u001b[0m\u001b[1;34m'exception'\u001b[0m\u001b[1;33m)\u001b[0m\u001b[1;33m\u001b[0m\u001b[1;33m\u001b[0m\u001b[0m\n\u001b[1;32m--> 116\u001b[1;33m             \u001b[0mself\u001b[0m\u001b[1;33m.\u001b[0m\u001b[0msend_error\u001b[0m\u001b[1;33m(\u001b[0m\u001b[1;36m500\u001b[0m\u001b[1;33m,\u001b[0m \u001b[1;34m'Access denied'\u001b[0m\u001b[1;33m)\u001b[0m\u001b[1;33m\u001b[0m\u001b[1;33m\u001b[0m\u001b[0m\n\u001b[0m",
      "\u001b[1;32m~\\anaconda3\\lib\\http\\server.py\u001b[0m in \u001b[0;36msend_error\u001b[1;34m(self, code, message, explain)\u001b[0m\n\u001b[0;32m    455\u001b[0m         \u001b[1;32mif\u001b[0m \u001b[0mexplain\u001b[0m \u001b[1;32mis\u001b[0m \u001b[1;32mNone\u001b[0m\u001b[1;33m:\u001b[0m\u001b[1;33m\u001b[0m\u001b[1;33m\u001b[0m\u001b[0m\n\u001b[0;32m    456\u001b[0m             \u001b[0mexplain\u001b[0m \u001b[1;33m=\u001b[0m \u001b[0mlongmsg\u001b[0m\u001b[1;33m\u001b[0m\u001b[1;33m\u001b[0m\u001b[0m\n\u001b[1;32m--> 457\u001b[1;33m         \u001b[0mself\u001b[0m\u001b[1;33m.\u001b[0m\u001b[0mlog_error\u001b[0m\u001b[1;33m(\u001b[0m\u001b[1;34m\"code %d, message %s\"\u001b[0m\u001b[1;33m,\u001b[0m \u001b[0mcode\u001b[0m\u001b[1;33m,\u001b[0m \u001b[0mmessage\u001b[0m\u001b[1;33m)\u001b[0m\u001b[1;33m\u001b[0m\u001b[1;33m\u001b[0m\u001b[0m\n\u001b[0m\u001b[0;32m    458\u001b[0m         \u001b[0mself\u001b[0m\u001b[1;33m.\u001b[0m\u001b[0msend_response\u001b[0m\u001b[1;33m(\u001b[0m\u001b[0mcode\u001b[0m\u001b[1;33m,\u001b[0m \u001b[0mmessage\u001b[0m\u001b[1;33m)\u001b[0m\u001b[1;33m\u001b[0m\u001b[1;33m\u001b[0m\u001b[0m\n\u001b[0;32m    459\u001b[0m         \u001b[0mself\u001b[0m\u001b[1;33m.\u001b[0m\u001b[0msend_header\u001b[0m\u001b[1;33m(\u001b[0m\u001b[1;34m'Connection'\u001b[0m\u001b[1;33m,\u001b[0m \u001b[1;34m'close'\u001b[0m\u001b[1;33m)\u001b[0m\u001b[1;33m\u001b[0m\u001b[1;33m\u001b[0m\u001b[0m\n",
      "\u001b[1;32m~\\anaconda3\\lib\\http\\server.py\u001b[0m in \u001b[0;36mlog_error\u001b[1;34m(self, format, *args)\u001b[0m\n\u001b[0;32m    557\u001b[0m         \"\"\"\n\u001b[0;32m    558\u001b[0m \u001b[1;33m\u001b[0m\u001b[0m\n\u001b[1;32m--> 559\u001b[1;33m         \u001b[0mself\u001b[0m\u001b[1;33m.\u001b[0m\u001b[0mlog_message\u001b[0m\u001b[1;33m(\u001b[0m\u001b[0mformat\u001b[0m\u001b[1;33m,\u001b[0m \u001b[1;33m*\u001b[0m\u001b[0margs\u001b[0m\u001b[1;33m)\u001b[0m\u001b[1;33m\u001b[0m\u001b[1;33m\u001b[0m\u001b[0m\n\u001b[0m\u001b[0;32m    560\u001b[0m \u001b[1;33m\u001b[0m\u001b[0m\n\u001b[0;32m    561\u001b[0m     \u001b[1;32mdef\u001b[0m \u001b[0mlog_message\u001b[0m\u001b[1;33m(\u001b[0m\u001b[0mself\u001b[0m\u001b[1;33m,\u001b[0m \u001b[0mformat\u001b[0m\u001b[1;33m,\u001b[0m \u001b[1;33m*\u001b[0m\u001b[0margs\u001b[0m\u001b[1;33m)\u001b[0m\u001b[1;33m:\u001b[0m\u001b[1;33m\u001b[0m\u001b[1;33m\u001b[0m\u001b[0m\n",
      "\u001b[1;32m~\\anaconda3\\lib\\http\\server.py\u001b[0m in \u001b[0;36mlog_message\u001b[1;34m(self, format, *args)\u001b[0m\n\u001b[0;32m    577\u001b[0m \u001b[1;33m\u001b[0m\u001b[0m\n\u001b[0;32m    578\u001b[0m         sys.stderr.write(\"%s - - [%s] %s\\n\" %\n\u001b[1;32m--> 579\u001b[1;33m                          (self.address_string(),\n\u001b[0m\u001b[0;32m    580\u001b[0m                           \u001b[0mself\u001b[0m\u001b[1;33m.\u001b[0m\u001b[0mlog_date_time_string\u001b[0m\u001b[1;33m(\u001b[0m\u001b[1;33m)\u001b[0m\u001b[1;33m,\u001b[0m\u001b[1;33m\u001b[0m\u001b[1;33m\u001b[0m\u001b[0m\n\u001b[0;32m    581\u001b[0m                           format%args))\n",
      "\u001b[1;32m~\\anaconda3\\lib\\http\\server.py\u001b[0m in \u001b[0;36maddress_string\u001b[1;34m(self)\u001b[0m\n\u001b[0;32m    608\u001b[0m         \u001b[1;34m\"\"\"Return the client address.\"\"\"\u001b[0m\u001b[1;33m\u001b[0m\u001b[1;33m\u001b[0m\u001b[0m\n\u001b[0;32m    609\u001b[0m \u001b[1;33m\u001b[0m\u001b[0m\n\u001b[1;32m--> 610\u001b[1;33m         \u001b[1;32mreturn\u001b[0m \u001b[0mself\u001b[0m\u001b[1;33m.\u001b[0m\u001b[0mclient_address\u001b[0m\u001b[1;33m[\u001b[0m\u001b[1;36m0\u001b[0m\u001b[1;33m]\u001b[0m\u001b[1;33m\u001b[0m\u001b[1;33m\u001b[0m\u001b[0m\n\u001b[0m\u001b[0;32m    611\u001b[0m \u001b[1;33m\u001b[0m\u001b[0m\n\u001b[0;32m    612\u001b[0m     \u001b[1;31m# Essentially static class variables\u001b[0m\u001b[1;33m\u001b[0m\u001b[1;33m\u001b[0m\u001b[0m\n",
      "\u001b[1;31mAttributeError\u001b[0m: 'Vibrateserver' object has no attribute 'client_address'"
     ]
    }
   ],
   "source": [
    "vs.do_GET()"
   ]
  },
  {
   "cell_type": "code",
   "execution_count": 130,
   "id": "622ec895-97f2-41fb-92e5-987e4f076f1d",
   "metadata": {},
   "outputs": [
    {
     "data": {
      "text/plain": [
       "'/output'"
      ]
     },
     "execution_count": 130,
     "metadata": {},
     "output_type": "execute_result"
    }
   ],
   "source": [
    "urlparse(vs.path).path"
   ]
  },
  {
   "cell_type": "code",
   "execution_count": null,
   "id": "834d5ab8-1c8d-4b01-aaf5-7b2be9b186b9",
   "metadata": {},
   "outputs": [],
   "source": []
  },
  {
   "cell_type": "code",
   "execution_count": 73,
   "id": "feb65216-3718-4aa0-a56f-3198122c1964",
   "metadata": {},
   "outputs": [],
   "source": [
    "from urllib.parse import urlparse, parse_qs\n",
    "url = 'localhost:8080/input?key=431f8a00bb579d4691b19efe332e21d8b61ff25e8a1698d81bf95a756660f3ee&hwid=two_corner&payload=423z982z912'\n",
    "qs = parse_qs(urlparse(url).query)\n",
    "path = urlparse(url).path"
   ]
  },
  {
   "cell_type": "code",
   "execution_count": 82,
   "id": "28e702ba-8575-4c3d-8f36-358c411c9d91",
   "metadata": {},
   "outputs": [
    {
     "data": {
      "text/plain": [
       "True"
      ]
     },
     "execution_count": 82,
     "metadata": {},
     "output_type": "execute_result"
    }
   ],
   "source": [
    "\n",
    "qs['hwid'][0] in ag.in_sw.keys()"
   ]
  },
  {
   "cell_type": "code",
   "execution_count": 80,
   "id": "3f17dc9a-c79f-40fc-ab16-da752f65797d",
   "metadata": {},
   "outputs": [
    {
     "data": {
      "text/plain": [
       "dict_keys(['two_corner', 'two_entry', 'one_perimeter', 'one_main', 'one_hallway'])"
      ]
     },
     "execution_count": 80,
     "metadata": {},
     "output_type": "execute_result"
    }
   ],
   "source": [
    "ag.in_sw.keys()"
   ]
  },
  {
   "cell_type": "markdown",
   "id": "4e5ba163-4f7f-4eba-9612-caf34c082c45",
   "metadata": {},
   "source": [
    "localhost:8080/input?key=431f8a00bb579d4691b19efe332e21d8b61ff25e8a1698d81bf95a756660f3ee&hwid=two_corner&payload=423z982z912"
   ]
  },
  {
   "cell_type": "code",
   "execution_count": 85,
   "id": "3c8dfd8a-95a9-43b0-bcec-978e68341c8b",
   "metadata": {},
   "outputs": [
    {
     "data": {
      "text/plain": [
       "3"
      ]
     },
     "execution_count": 85,
     "metadata": {},
     "output_type": "execute_result"
    }
   ],
   "source": [
    "f = [0,0,0]\n",
    "len(f)"
   ]
  },
  {
   "cell_type": "code",
   "execution_count": null,
   "id": "4d9b23c6-1c30-46c9-b75f-86f801bc929a",
   "metadata": {},
   "outputs": [],
   "source": [
    "http://localhost:5000/input?key=431f8a00bb579d4691b19efe332e21d8b61ff25e8a1698d81bf95a756660f3ee&hwid=two_corner&payload=423z982z912"
   ]
  },
  {
   "cell_type": "code",
   "execution_count": null,
   "id": "421c9914-1f06-4128-b7f0-514034e10759",
   "metadata": {},
   "outputs": [],
   "source": [
    "http://localhost:5000/output?key=431f8a00bb579d4691b19efe332e21d8b61ff25e8a1698d81bf95a756660f3ee&hwid=two_corner"
   ]
  },
  {
   "cell_type": "code",
   "execution_count": null,
   "id": "1f759898-75c5-423d-be1e-b1cd9bc9c4c3",
   "metadata": {},
   "outputs": [],
   "source": []
  }
 ],
 "metadata": {
  "kernelspec": {
   "display_name": "Python 3 (ipykernel)",
   "language": "python",
   "name": "python3"
  },
  "language_info": {
   "codemirror_mode": {
    "name": "ipython",
    "version": 3
   },
   "file_extension": ".py",
   "mimetype": "text/x-python",
   "name": "python",
   "nbconvert_exporter": "python",
   "pygments_lexer": "ipython3",
   "version": "3.9.7"
  }
 },
 "nbformat": 4,
 "nbformat_minor": 5
}
