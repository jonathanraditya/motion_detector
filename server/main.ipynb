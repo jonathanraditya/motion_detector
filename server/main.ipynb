{
 "cells": [
  {
   "cell_type": "code",
   "execution_count": 2,
   "id": "62f94c6a-a4ac-42f0-8be0-04cdce68f2cf",
   "metadata": {},
   "outputs": [],
   "source": [
    "from http.server import BaseHTTPRequestHandler, HTTPServer\n",
    "import sqlite3\n",
    "import os"
   ]
  },
  {
   "cell_type": "code",
   "execution_count": 3,
   "id": "9fb2f6d2-12f2-4d14-b0bd-eee77d0a5083",
   "metadata": {},
   "outputs": [],
   "source": [
    "\n",
    "class Sqlite:\n",
    "    def __init__(self):\n",
    "\n",
    "class Vibrateserver:\n",
    "    def __init__(self):\n",
    "        self.root_dir = os.getcwd()\n",
    "        self.db = 'records.db'\n",
    "        self.db_path = os.path.join(root_dir, db)\n",
    "\n",
    "        self.in_sw = {\n",
    "            'two_corner':['front_facing','side_facing','room_entry'],\n",
    "            'two_entry':['left_sensor','right_sensor'],\n",
    "            'one_perimeter':['carport_perimeter','large_gate','small_gate','garden_fence','garden_outer_perimeter'],\n",
    "            'one_main':['parlor_window','main_door_upper','main_door_lower'],\n",
    "            'one_hallway':['hallway_door','hallway_window','kitchen_lamp_switch','outdoor_lamp_switch','parlor_lamp_switch']\n",
    "        }\n",
    "        self.out_gb = 0\n",
    "        self.out_sw = {\n",
    "            'kitchen_lamp_switch':0,\n",
    "            'outdoor_lamp_switch':0,\n",
    "            'parlor_lamp_switch':0\n",
    "        }\n",
    "    \n",
    "    \n",
    "    def create_connection(db_path):\n",
    "        conn = None\n",
    "        try:\n",
    "            conn = sqlite3.connect(db_path)\n",
    "        except Error as e:\n",
    "            print(e)\n",
    "        return conn\n",
    "\n",
    "def insert_value"
   ]
  },
  {
   "cell_type": "code",
   "execution_count": 4,
   "id": "2c5440ed-aa43-4e66-9201-f7c1917deb7a",
   "metadata": {},
   "outputs": [
    {
     "data": {
      "text/plain": [
       "'C:\\\\Users\\\\jonat\\\\Documents\\\\#PROJECT\\\\vibration_sensor\\\\server'"
      ]
     },
     "execution_count": 4,
     "metadata": {},
     "output_type": "execute_result"
    }
   ],
   "source": [
    "root_dir"
   ]
  },
  {
   "cell_type": "code",
   "execution_count": null,
   "id": "72b53509-6919-4c47-8067-650d1af1f80d",
   "metadata": {},
   "outputs": [],
   "source": []
  }
 ],
 "metadata": {
  "kernelspec": {
   "display_name": "Python 3 (ipykernel)",
   "language": "python",
   "name": "python3"
  },
  "language_info": {
   "codemirror_mode": {
    "name": "ipython",
    "version": 3
   },
   "file_extension": ".py",
   "mimetype": "text/x-python",
   "name": "python",
   "nbconvert_exporter": "python",
   "pygments_lexer": "ipython3",
   "version": "3.9.7"
  }
 },
 "nbformat": 4,
 "nbformat_minor": 5
}
