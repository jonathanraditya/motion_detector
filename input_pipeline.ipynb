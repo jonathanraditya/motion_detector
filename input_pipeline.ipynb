{
 "cells": [
  {
   "cell_type": "code",
   "execution_count": 283,
   "id": "a37c0397-a66d-4820-ad20-a89ee4e69e8d",
   "metadata": {},
   "outputs": [],
   "source": [
    "import pandas as pd\n",
    "import os\n",
    "from os import getcwd, path\n",
    "from global_modules import GlobalOperations, Sqlite_v2\n",
    "go = GlobalOperations()\n",
    "\n",
    "import matplotlib.pyplot as plt\n",
    "from datetime import datetime as dtime\n",
    "from datetime import timedelta as tdelta\n",
    "\n",
    "def mv_db_df(con):\n",
    "    r = []\n",
    "    n = []\n",
    "    cur = con.cursor()\n",
    "    cur.execute(\"select name from sqlite_master where type='table'\")\n",
    "    for t, *_ in cur.fetchall():\n",
    "        f = pd.read_sql(f\"select * from {t}\", con)\n",
    "        # f = pd.read_sql(f\"WITH CTE AS (SELECT TOP 1000 * FROM {t} ORDER BY timestamp DESC) SELECT * FROM CTE ORDER BY timestamp\", con)\n",
    "        f['timestamp'] = f.timestamp.astype('float')\n",
    "        f['timestamp'] = f.timestamp.map(lambda x: dtime.fromtimestamp(int(x)))\n",
    "        f['value'] = f.value.astype('int64')\n",
    "        r.append(f)\n",
    "        n.append(t)\n",
    "    return n, r"
   ]
  },
  {
   "cell_type": "code",
   "execution_count": 284,
   "id": "f895e6ba-9cf1-4064-a408-14b7355c290d",
   "metadata": {},
   "outputs": [],
   "source": [
    "R = getcwd()\n",
    "DB_P = path.join(R, 'db')\n",
    "MV_DB_P = path.join(DB_P, go.config['MOVEMENT_SIGNAL_DB'])\n",
    "N_DB_P = path.join(DB_P, go.config['NOTIFICATIONS_DB'])\n",
    "\n",
    "mv_db_sql = Sqlite_v2()\n",
    "n_db_sql = Sqlite_v2()\n",
    "mv_db_sql.create_connection(MV_DB_P)\n",
    "n_db_sql.create_connection(N_DB_P)\n",
    "\n",
    "ts_mv, dbs_mv = mv_db_df(mv_db_sql.conn)\n",
    "# dbs_n = db_df(n_db_sql.conn)"
   ]
  },
  {
   "cell_type": "code",
   "execution_count": 285,
   "id": "65cf7529-ec2e-4a7d-932d-9385d0298189",
   "metadata": {},
   "outputs": [
    {
     "data": {
      "text/plain": [
       "['outer_fence', 'hallway', 'garden']"
      ]
     },
     "execution_count": 285,
     "metadata": {},
     "output_type": "execute_result"
    }
   ],
   "source": [
    "ts_mv"
   ]
  },
  {
   "cell_type": "code",
   "execution_count": 286,
   "id": "e3969039-72fc-44ef-999b-c0299ed55021",
   "metadata": {},
   "outputs": [
    {
     "data": {
      "text/html": [
       "<div>\n",
       "<style scoped>\n",
       "    .dataframe tbody tr th:only-of-type {\n",
       "        vertical-align: middle;\n",
       "    }\n",
       "\n",
       "    .dataframe tbody tr th {\n",
       "        vertical-align: top;\n",
       "    }\n",
       "\n",
       "    .dataframe thead th {\n",
       "        text-align: right;\n",
       "    }\n",
       "</style>\n",
       "<table border=\"1\" class=\"dataframe\">\n",
       "  <thead>\n",
       "    <tr style=\"text-align: right;\">\n",
       "      <th></th>\n",
       "      <th>timestamp</th>\n",
       "      <th>value</th>\n",
       "    </tr>\n",
       "  </thead>\n",
       "  <tbody>\n",
       "    <tr>\n",
       "      <th>0</th>\n",
       "      <td>2023-12-08 18:05:02</td>\n",
       "      <td>0</td>\n",
       "    </tr>\n",
       "    <tr>\n",
       "      <th>1</th>\n",
       "      <td>2023-12-08 18:05:03</td>\n",
       "      <td>0</td>\n",
       "    </tr>\n",
       "    <tr>\n",
       "      <th>2</th>\n",
       "      <td>2023-12-08 18:05:04</td>\n",
       "      <td>0</td>\n",
       "    </tr>\n",
       "    <tr>\n",
       "      <th>3</th>\n",
       "      <td>2023-12-08 18:05:05</td>\n",
       "      <td>0</td>\n",
       "    </tr>\n",
       "    <tr>\n",
       "      <th>4</th>\n",
       "      <td>2023-12-08 18:05:06</td>\n",
       "      <td>0</td>\n",
       "    </tr>\n",
       "    <tr>\n",
       "      <th>...</th>\n",
       "      <td>...</td>\n",
       "      <td>...</td>\n",
       "    </tr>\n",
       "    <tr>\n",
       "      <th>715158</th>\n",
       "      <td>2023-12-19 11:28:08</td>\n",
       "      <td>0</td>\n",
       "    </tr>\n",
       "    <tr>\n",
       "      <th>715159</th>\n",
       "      <td>2023-12-19 11:28:09</td>\n",
       "      <td>0</td>\n",
       "    </tr>\n",
       "    <tr>\n",
       "      <th>715160</th>\n",
       "      <td>2023-12-19 11:28:10</td>\n",
       "      <td>0</td>\n",
       "    </tr>\n",
       "    <tr>\n",
       "      <th>715161</th>\n",
       "      <td>2023-12-19 11:28:11</td>\n",
       "      <td>0</td>\n",
       "    </tr>\n",
       "    <tr>\n",
       "      <th>715162</th>\n",
       "      <td>2023-12-19 11:28:12</td>\n",
       "      <td>0</td>\n",
       "    </tr>\n",
       "  </tbody>\n",
       "</table>\n",
       "<p>715163 rows × 2 columns</p>\n",
       "</div>"
      ],
      "text/plain": [
       "                 timestamp  value\n",
       "0      2023-12-08 18:05:02      0\n",
       "1      2023-12-08 18:05:03      0\n",
       "2      2023-12-08 18:05:04      0\n",
       "3      2023-12-08 18:05:05      0\n",
       "4      2023-12-08 18:05:06      0\n",
       "...                    ...    ...\n",
       "715158 2023-12-19 11:28:08      0\n",
       "715159 2023-12-19 11:28:09      0\n",
       "715160 2023-12-19 11:28:10      0\n",
       "715161 2023-12-19 11:28:11      0\n",
       "715162 2023-12-19 11:28:12      0\n",
       "\n",
       "[715163 rows x 2 columns]"
      ]
     },
     "execution_count": 286,
     "metadata": {},
     "output_type": "execute_result"
    }
   ],
   "source": [
    "dbs_mv[0]"
   ]
  },
  {
   "cell_type": "code",
   "execution_count": 287,
   "id": "29b2e45e-51c3-48af-b1c1-d9d3a4a5fd85",
   "metadata": {},
   "outputs": [
    {
     "data": {
      "text/plain": [
       "[<matplotlib.lines.Line2D at 0x29befef50>]"
      ]
     },
     "execution_count": 287,
     "metadata": {},
     "output_type": "execute_result"
    },
    {
     "data": {
      "image/png": "[encoded data removed]",
      "text/plain": [
       "<Figure size 700x500 with 1 Axes>"
      ]
     },
     "metadata": {},
     "output_type": "display_data"
    }
   ],
   "source": [
    "filt = df_mv_of[df_mv_of['timestamp'] > (df_mv_of.tail(1).timestamp - tdelta(days=1)).values[0]]\n",
    "\n",
    "plt.figure(figsize=(7,5))\n",
    "plt.plot(filt.timestamp, filt.value)"
   ]
  },
  {
   "cell_type": "code",
   "execution_count": 273,
   "id": "2acf247e-9c01-470a-9d52-4389863be786",
   "metadata": {},
   "outputs": [
    {
     "data": {
      "text/plain": [
       "637746    11\n",
       "637747    11\n",
       "637748    11\n",
       "637749    11\n",
       "637750    11\n",
       "          ..\n",
       "715158    11\n",
       "715159    11\n",
       "715160    11\n",
       "715161    11\n",
       "715162    11\n",
       "Name: timestamp, Length: 77417, dtype: int32"
      ]
     },
     "execution_count": 273,
     "metadata": {},
     "output_type": "execute_result"
    }
   ],
   "source": [
    "filt.timestamp.dt.hour"
   ]
  },
  {
   "cell_type": "code",
   "execution_count": null,
   "id": "61cf0691-a9a6-4435-9071-201fe48714b5",
   "metadata": {},
   "outputs": [],
   "source": []
  },
  {
   "cell_type": "code",
   "execution_count": null,
   "id": "2cbedfcc-ca16-4bc5-aed6-cf1f85bcb2ac",
   "metadata": {},
   "outputs": [],
   "source": []
  },
  {
   "cell_type": "code",
   "execution_count": null,
   "id": "7561e009-e14c-449e-a90b-ee0dd5a65cb4",
   "metadata": {},
   "outputs": [],
   "source": []
  },
  {
   "cell_type": "code",
   "execution_count": null,
   "id": "8d34b225-70fe-40b1-b964-fdea13e29d46",
   "metadata": {},
   "outputs": [],
   "source": []
  },
  {
   "cell_type": "code",
   "execution_count": 17,
   "id": "f62571e8-1d92-45d5-9583-3ee0813ef57e",
   "metadata": {},
   "outputs": [
    {
     "name": "stdout",
     "output_type": "stream",
     "text": [
      "[('outer_fence',), ('hallway',), ('garden',)]\n"
     ]
    }
   ],
   "source": [
    "cur = mv_db_sql.conn.cursor()\n",
    "cur.execute(\"select name from sqlite_master where type='table'\")\n",
    "print(cur.fetchall())\n",
    "\n",
    "cur_n = n_db_sql.conn.cursor()\n",
    "cur_n.execute(\"select name from sqlite_master where type='table'\")\n",
    "print(cur_n.fetchall())"
   ]
  },
  {
   "cell_type": "code",
   "execution_count": 20,
   "id": "dc2b6f14-5abe-42b3-bb5f-0e297cbe1b66",
   "metadata": {},
   "outputs": [
    {
     "name": "stdout",
     "output_type": "stream",
     "text": [
      "[('notifications',)]\n"
     ]
    }
   ],
   "source": []
  },
  {
   "cell_type": "code",
   "execution_count": 254,
   "id": "29806d8d-15f2-4555-9931-7fec925f93d0",
   "metadata": {},
   "outputs": [],
   "source": [
    "def db_df(con):\n",
    "    r = []\n",
    "    cur = mv_db_sql.conn.cursor()\n",
    "    cur.execute(\"select name from sqlite_master where type='table'\")\n",
    "    for t, *_ in cur.fetchall():\n",
    "        f = pd.read_sql(f\"select * from {t}\", con)\n",
    "        f['timestamp'] = f.timestamp.astype('float')\n",
    "        f['timestamp'] = f.timestamp.map(lambda x: dtime.fromtimestamp(int(x)))\n",
    "        f['value'] = f.value.astype('int64')\n",
    "        r.append(f)\n",
    "    return r"
   ]
  },
  {
   "cell_type": "code",
   "execution_count": 203,
   "id": "1e891c3c-906e-4bf5-a16d-237368691f4d",
   "metadata": {},
   "outputs": [],
   "source": [
    "df_mv_of = pd.read_sql('select * from outer_fence', mv_db_sql.conn)\n",
    "df_mv_of['timestamp'] = df_mv_of.timestamp.astype('float')\n",
    "df_mv_of['timestamp'] = df_mv_of.timestamp.map(lambda x: dtime.fromtimestamp(int(x)))\n",
    "df_mv_of['value'] = df_mv_of.value.astype('int64')"
   ]
  },
  {
   "cell_type": "code",
   "execution_count": 204,
   "id": "8377097e-eda8-44c1-a712-9cdcc047801c",
   "metadata": {},
   "outputs": [
    {
     "name": "stdout",
     "output_type": "stream",
     "text": [
      "<class 'pandas.core.frame.DataFrame'>\n",
      "RangeIndex: 715163 entries, 0 to 715162\n",
      "Data columns (total 2 columns):\n",
      " #   Column     Non-Null Count   Dtype         \n",
      "---  ------     --------------   -----         \n",
      " 0   timestamp  715163 non-null  datetime64[ns]\n",
      " 1   value      715163 non-null  int64         \n",
      "dtypes: datetime64[ns](1), int64(1)\n",
      "memory usage: 10.9 MB\n"
     ]
    }
   ],
   "source": [
    "df_mv_of.info()"
   ]
  },
  {
   "cell_type": "code",
   "execution_count": 41,
   "id": "f0290a5f-47a9-4009-a471-0c2adee240c0",
   "metadata": {},
   "outputs": [],
   "source": [
    "df_mv_of = df_mv_of[df_mv_of['value'] > 0]"
   ]
  },
  {
   "cell_type": "code",
   "execution_count": 42,
   "id": "72b371ec-55f1-4962-936e-91bca71caf11",
   "metadata": {},
   "outputs": [
    {
     "data": {
      "text/html": [
       "<div>\n",
       "<style scoped>\n",
       "    .dataframe tbody tr th:only-of-type {\n",
       "        vertical-align: middle;\n",
       "    }\n",
       "\n",
       "    .dataframe tbody tr th {\n",
       "        vertical-align: top;\n",
       "    }\n",
       "\n",
       "    .dataframe thead th {\n",
       "        text-align: right;\n",
       "    }\n",
       "</style>\n",
       "<table border=\"1\" class=\"dataframe\">\n",
       "  <thead>\n",
       "    <tr style=\"text-align: right;\">\n",
       "      <th></th>\n",
       "      <th>count</th>\n",
       "      <th>mean</th>\n",
       "      <th>std</th>\n",
       "      <th>min</th>\n",
       "      <th>25%</th>\n",
       "      <th>50%</th>\n",
       "      <th>75%</th>\n",
       "      <th>max</th>\n",
       "    </tr>\n",
       "  </thead>\n",
       "  <tbody>\n",
       "    <tr>\n",
       "      <th>timestamp</th>\n",
       "      <td>13877.0</td>\n",
       "      <td>1.702546e+09</td>\n",
       "      <td>282013.585341</td>\n",
       "      <td>1.702034e+09</td>\n",
       "      <td>1.702339e+09</td>\n",
       "      <td>1.702549e+09</td>\n",
       "      <td>1.702810e+09</td>\n",
       "      <td>1.702960e+09</td>\n",
       "    </tr>\n",
       "    <tr>\n",
       "      <th>value</th>\n",
       "      <td>13877.0</td>\n",
       "      <td>8.747654e+01</td>\n",
       "      <td>178.021848</td>\n",
       "      <td>1.000000e+00</td>\n",
       "      <td>1.100000e+01</td>\n",
       "      <td>3.100000e+01</td>\n",
       "      <td>9.800000e+01</td>\n",
       "      <td>3.988000e+03</td>\n",
       "    </tr>\n",
       "  </tbody>\n",
       "</table>\n",
       "</div>"
      ],
      "text/plain": [
       "             count          mean            std           min           25%  \\\n",
       "timestamp  13877.0  1.702546e+09  282013.585341  1.702034e+09  1.702339e+09   \n",
       "value      13877.0  8.747654e+01     178.021848  1.000000e+00  1.100000e+01   \n",
       "\n",
       "                    50%           75%           max  \n",
       "timestamp  1.702549e+09  1.702810e+09  1.702960e+09  \n",
       "value      3.100000e+01  9.800000e+01  3.988000e+03  "
      ]
     },
     "execution_count": 42,
     "metadata": {},
     "output_type": "execute_result"
    }
   ],
   "source": [
    "df_mv_of.describe().T"
   ]
  },
  {
   "cell_type": "code",
   "execution_count": 159,
   "id": "ba7e45ce-d443-4341-9c6f-8079aae3cfce",
   "metadata": {},
   "outputs": [
    {
     "data": {
      "text/plain": [
       "<Axes: >"
      ]
     },
     "execution_count": 159,
     "metadata": {},
     "output_type": "execute_result"
    },
    {
     "data": {
      "image/png": "[encoded data removed]",
      "text/plain": [
       "<Figure size 640x480 with 1 Axes>"
      ]
     },
     "metadata": {},
     "output_type": "display_data"
    }
   ],
   "source": [
    "df_mv_of.value.hist()"
   ]
  },
  {
   "cell_type": "code",
   "execution_count": 160,
   "id": "4569c93a-5678-402e-ac95-a9fb8484564a",
   "metadata": {},
   "outputs": [
    {
     "data": {
      "text/plain": [
       "0         1.702034e+09\n",
       "1         1.702034e+09\n",
       "2         1.702034e+09\n",
       "3         1.702034e+09\n",
       "4         1.702034e+09\n",
       "              ...     \n",
       "715158    1.702960e+09\n",
       "715159    1.702960e+09\n",
       "715160    1.702960e+09\n",
       "715161    1.702960e+09\n",
       "715162    1.702960e+09\n",
       "Name: timestamp, Length: 715163, dtype: float64"
      ]
     },
     "execution_count": 160,
     "metadata": {},
     "output_type": "execute_result"
    }
   ],
   "source": [
    "df_mv_of.timestamp"
   ]
  },
  {
   "cell_type": "code",
   "execution_count": 253,
   "id": "bbbc61b8-e3e2-4aba-854d-d865b73e0ee5",
   "metadata": {},
   "outputs": [
    {
     "data": {
      "text/plain": [
       "<Axes: >"
      ]
     },
     "execution_count": 253,
     "metadata": {},
     "output_type": "execute_result"
    },
    {
     "data": {
      "image/png": "[encoded data removed]",
      "text/plain": [
       "<Figure size 640x480 with 1 Axes>"
      ]
     },
     "metadata": {},
     "output_type": "display_data"
    }
   ],
   "source": [
    "# last_day = df_mv_of.tail()\n",
    "\n",
    "df_mv_of[df_mv_of['timestamp'] > (df_mv_of.tail(1).timestamp - tdelta(days=1)).values[0]].value.plot()"
   ]
  },
  {
   "cell_type": "code",
   "execution_count": null,
   "id": "4ed80fe1-5fa3-4b29-b661-cc3c21525c69",
   "metadata": {},
   "outputs": [],
   "source": []
  },
  {
   "cell_type": "code",
   "execution_count": 244,
   "id": "1c3bca3a-31f9-4064-9923-966148c54ca4",
   "metadata": {},
   "outputs": [
    {
     "data": {
      "text/plain": [
       "715162   2023-12-19 11:28:12\n",
       "Name: timestamp, dtype: datetime64[ns]"
      ]
     },
     "execution_count": 244,
     "metadata": {},
     "output_type": "execute_result"
    }
   ],
   "source": [
    "(df_mv_of.tail(1).timestamp - tdelta(days=1))"
   ]
  },
  {
   "cell_type": "code",
   "execution_count": 250,
   "id": "536a23cf-829d-48f8-877d-1fde2b8585d7",
   "metadata": {},
   "outputs": [
    {
     "data": {
      "text/plain": [
       "numpy.datetime64('2023-12-18T11:28:12.000000000')"
      ]
     },
     "execution_count": 250,
     "metadata": {},
     "output_type": "execute_result"
    }
   ],
   "source": [
    "(df_mv_of.tail(1).timestamp - tdelta(days=1)).values[0]"
   ]
  },
  {
   "cell_type": "code",
   "execution_count": null,
   "id": "e13cc4ee-3a24-42af-b7cc-c8687da78829",
   "metadata": {},
   "outputs": [],
   "source": []
  },
  {
   "cell_type": "code",
   "execution_count": null,
   "id": "e882ef89-6553-4962-8c48-7114180f439f",
   "metadata": {},
   "outputs": [],
   "source": []
  },
  {
   "cell_type": "code",
   "execution_count": null,
   "id": "d73b1440-80ab-458b-9361-98106a6805b6",
   "metadata": {},
   "outputs": [],
   "source": []
  },
  {
   "cell_type": "code",
   "execution_count": null,
   "id": "79ba53d9-cdfc-42b0-a639-f342ecd82de6",
   "metadata": {},
   "outputs": [],
   "source": []
  },
  {
   "cell_type": "code",
   "execution_count": null,
   "id": "d990e987-d980-4a9c-87c3-540ef4877939",
   "metadata": {},
   "outputs": [],
   "source": []
  },
  {
   "cell_type": "code",
   "execution_count": null,
   "id": "ebd99068-7dfc-40c9-b80f-34e40ba39984",
   "metadata": {},
   "outputs": [],
   "source": []
  },
  {
   "cell_type": "markdown",
   "id": "500e2412-dea4-443d-985c-894e426424ec",
   "metadata": {},
   "source": [
    "## Algo flow\n",
    "1. Create a detection bracket (the initial & last index with a specified minimum length)\n",
    "    - Important to separate outlier with an actual object that continuously moving over a specific time in that frame\n",
    "2. Preparing for ML input\n",
    "    - hour & min of the init. MM norm\n",
    "    - length\n",
    "    - max, avg, median, MM norm\n",
    "    - stdev, kurtosis"
   ]
  },
  {
   "cell_type": "code",
   "execution_count": 217,
   "id": "7d9ddc00-6155-4118-b9a2-c122d00fbeeb",
   "metadata": {},
   "outputs": [],
   "source": [
    "def detection_bracket(df, min_length=5):\n",
    "    '''\n",
    "    df: pd DataFrame with:\n",
    "        - sequential-asc-sorted index\n",
    "        - `value` column that hold the detected value\n",
    "    min_length: a required length to be considered\n",
    "        as a notable events\n",
    "    '''\n",
    "    g = []\n",
    "    pv = 0\n",
    "    for i, r in df.iterrows():\n",
    "        # register the initial bracket\n",
    "        if r['value'] > 0 and pv == 0:\n",
    "            ix = i\n",
    "            ih = r['timestamp'].hour / 60\n",
    "            im = r['timestamp'].minute / 60\n",
    "            pv = r['value']\n",
    "    \n",
    "        # register the end bracket\n",
    "        if r['value'] == 0 and pv > 0:\n",
    "            if i - ix > min_length:\n",
    "                d = (df[ix:i].describe().value / \n",
    "                        df[ix:i].value.max()).tolist()\n",
    "                d.append(df[ix:i].value.skew())\n",
    "                d.append(df[ix:i].value.kurtosis())\n",
    "                d.append(ih)\n",
    "                d.append(im)\n",
    "                g.append(d)\n",
    "            # reset values\n",
    "            pv = 0\n",
    "            ih = 0\n",
    "            im = 0\n",
    "    return g"
   ]
  },
  {
   "cell_type": "code",
   "execution_count": 218,
   "id": "d61ff6ae-0395-4e7c-bc89-516684ff7340",
   "metadata": {},
   "outputs": [],
   "source": [
    "det = detection_bracket(df_mv_of)"
   ]
  },
  {
   "cell_type": "code",
   "execution_count": 233,
   "id": "dd5017d9-5ddf-4ee6-a5d6-714bd1993bfe",
   "metadata": {},
   "outputs": [],
   "source": [
    "df_det = pd.DataFrame(det)"
   ]
  },
  {
   "cell_type": "code",
   "execution_count": 229,
   "id": "e734ac33-1243-4d6f-90ed-0362ab957877",
   "metadata": {},
   "outputs": [
    {
     "data": {
      "text/plain": [
       "0"
      ]
     },
     "execution_count": 229,
     "metadata": {},
     "output_type": "execute_result"
    }
   ],
   "source": [
    "i"
   ]
  },
  {
   "cell_type": "code",
   "execution_count": 230,
   "id": "3a86e69a-417d-4acb-9d15-00f93a38514a",
   "metadata": {},
   "outputs": [
    {
     "data": {
      "text/plain": [
       "0     0.246687\n",
       "1     0.205734\n",
       "2     0.199739\n",
       "3     0.268627\n",
       "4     0.233005\n",
       "5     0.174947\n",
       "6          NaN\n",
       "7     0.030542\n",
       "8    -0.206665\n",
       "9    -0.177544\n",
       "10   -0.071850\n",
       "11   -0.031593\n",
       "dtype: float64"
      ]
     },
     "execution_count": 230,
     "metadata": {},
     "output_type": "execute_result"
    }
   ],
   "source": [
    "df_det.corr().mean()"
   ]
  },
  {
   "cell_type": "code",
   "execution_count": 232,
   "id": "850a92fd-1e02-42c7-884f-4b1d84c54d1e",
   "metadata": {},
   "outputs": [
    {
     "data": {
      "text/plain": [
       "0     0.137107\n",
       "1     0.240539\n",
       "2     0.198382\n",
       "3     0.223786\n",
       "4     0.231682\n",
       "5     0.205282\n",
       "6          NaN\n",
       "7    -0.064353\n",
       "8    -0.195740\n",
       "9    -0.137680\n",
       "10   -0.013086\n",
       "11    0.079195\n",
       "dtype: float64"
      ]
     },
     "execution_count": 232,
     "metadata": {},
     "output_type": "execute_result"
    }
   ],
   "source": [
    "df_det.corr().mean()"
   ]
  },
  {
   "cell_type": "code",
   "execution_count": 234,
   "id": "9b9fb262-330a-405d-8d2c-d8421715423d",
   "metadata": {},
   "outputs": [
    {
     "data": {
      "text/html": [
       "<div>\n",
       "<style scoped>\n",
       "    .dataframe tbody tr th:only-of-type {\n",
       "        vertical-align: middle;\n",
       "    }\n",
       "\n",
       "    .dataframe tbody tr th {\n",
       "        vertical-align: top;\n",
       "    }\n",
       "\n",
       "    .dataframe thead th {\n",
       "        text-align: right;\n",
       "    }\n",
       "</style>\n",
       "<table border=\"1\" class=\"dataframe\">\n",
       "  <thead>\n",
       "    <tr style=\"text-align: right;\">\n",
       "      <th></th>\n",
       "      <th>0</th>\n",
       "      <th>1</th>\n",
       "      <th>2</th>\n",
       "      <th>3</th>\n",
       "      <th>4</th>\n",
       "      <th>5</th>\n",
       "      <th>6</th>\n",
       "      <th>7</th>\n",
       "      <th>8</th>\n",
       "      <th>9</th>\n",
       "      <th>10</th>\n",
       "      <th>11</th>\n",
       "    </tr>\n",
       "  </thead>\n",
       "  <tbody>\n",
       "    <tr>\n",
       "      <th>0</th>\n",
       "      <td>0.067961</td>\n",
       "      <td>0.474341</td>\n",
       "      <td>0.038835</td>\n",
       "      <td>0.179612</td>\n",
       "      <td>0.563107</td>\n",
       "      <td>0.679612</td>\n",
       "      <td>1.0</td>\n",
       "      <td>0.354399</td>\n",
       "      <td>0.090693</td>\n",
       "      <td>-1.221652</td>\n",
       "      <td>0.300000</td>\n",
       "      <td>0.300000</td>\n",
       "    </tr>\n",
       "    <tr>\n",
       "      <th>1</th>\n",
       "      <td>0.011628</td>\n",
       "      <td>0.309432</td>\n",
       "      <td>0.013566</td>\n",
       "      <td>0.055233</td>\n",
       "      <td>0.218023</td>\n",
       "      <td>0.359012</td>\n",
       "      <td>1.0</td>\n",
       "      <td>0.368100</td>\n",
       "      <td>1.662599</td>\n",
       "      <td>2.993818</td>\n",
       "      <td>0.300000</td>\n",
       "      <td>0.316667</td>\n",
       "    </tr>\n",
       "    <tr>\n",
       "      <th>2</th>\n",
       "      <td>0.011257</td>\n",
       "      <td>0.491245</td>\n",
       "      <td>0.001876</td>\n",
       "      <td>0.078799</td>\n",
       "      <td>0.503752</td>\n",
       "      <td>0.876642</td>\n",
       "      <td>1.0</td>\n",
       "      <td>0.449781</td>\n",
       "      <td>-0.038814</td>\n",
       "      <td>-2.421954</td>\n",
       "      <td>0.300000</td>\n",
       "      <td>0.316667</td>\n",
       "    </tr>\n",
       "    <tr>\n",
       "      <th>3</th>\n",
       "      <td>0.025806</td>\n",
       "      <td>0.190323</td>\n",
       "      <td>0.012903</td>\n",
       "      <td>0.045968</td>\n",
       "      <td>0.059677</td>\n",
       "      <td>0.146774</td>\n",
       "      <td>1.0</td>\n",
       "      <td>0.331153</td>\n",
       "      <td>2.697177</td>\n",
       "      <td>7.425112</td>\n",
       "      <td>0.300000</td>\n",
       "      <td>0.533333</td>\n",
       "    </tr>\n",
       "    <tr>\n",
       "      <th>4</th>\n",
       "      <td>0.022039</td>\n",
       "      <td>0.292355</td>\n",
       "      <td>0.019284</td>\n",
       "      <td>0.086088</td>\n",
       "      <td>0.144628</td>\n",
       "      <td>0.378099</td>\n",
       "      <td>1.0</td>\n",
       "      <td>0.341948</td>\n",
       "      <td>1.567341</td>\n",
       "      <td>1.926845</td>\n",
       "      <td>0.316667</td>\n",
       "      <td>0.133333</td>\n",
       "    </tr>\n",
       "  </tbody>\n",
       "</table>\n",
       "</div>"
      ],
      "text/plain": [
       "         0         1         2         3         4         5    6         7   \\\n",
       "0  0.067961  0.474341  0.038835  0.179612  0.563107  0.679612  1.0  0.354399   \n",
       "1  0.011628  0.309432  0.013566  0.055233  0.218023  0.359012  1.0  0.368100   \n",
       "2  0.011257  0.491245  0.001876  0.078799  0.503752  0.876642  1.0  0.449781   \n",
       "3  0.025806  0.190323  0.012903  0.045968  0.059677  0.146774  1.0  0.331153   \n",
       "4  0.022039  0.292355  0.019284  0.086088  0.144628  0.378099  1.0  0.341948   \n",
       "\n",
       "         8         9         10        11  \n",
       "0  0.090693 -1.221652  0.300000  0.300000  \n",
       "1  1.662599  2.993818  0.300000  0.316667  \n",
       "2 -0.038814 -2.421954  0.300000  0.316667  \n",
       "3  2.697177  7.425112  0.300000  0.533333  \n",
       "4  1.567341  1.926845  0.316667  0.133333  "
      ]
     },
     "execution_count": 234,
     "metadata": {},
     "output_type": "execute_result"
    }
   ],
   "source": [
    "df_det.head()"
   ]
  },
  {
   "cell_type": "code",
   "execution_count": null,
   "id": "b604730c-fa01-41a7-b021-8b85dd1142d5",
   "metadata": {},
   "outputs": [],
   "source": []
  },
  {
   "cell_type": "code",
   "execution_count": null,
   "id": "c9661d7f-4e59-47e4-bde1-ce9ee874ef5d",
   "metadata": {},
   "outputs": [],
   "source": []
  },
  {
   "cell_type": "code",
   "execution_count": null,
   "id": "07e70789-1ce3-4039-931b-1e515a00ef30",
   "metadata": {},
   "outputs": [],
   "source": []
  },
  {
   "cell_type": "code",
   "execution_count": null,
   "id": "5e1319c8-9768-4be3-a8f5-57488d422d10",
   "metadata": {},
   "outputs": [],
   "source": []
  },
  {
   "cell_type": "code",
   "execution_count": null,
   "id": "8d6d7aa7-87a7-43dd-996d-ad593657cd57",
   "metadata": {},
   "outputs": [],
   "source": []
  },
  {
   "cell_type": "code",
   "execution_count": null,
   "id": "0887de17-0599-4350-82b6-f44100822000",
   "metadata": {},
   "outputs": [],
   "source": []
  },
  {
   "cell_type": "code",
   "execution_count": null,
   "id": "50a03ff1-d900-478d-9b4e-b3a0620a8a30",
   "metadata": {},
   "outputs": [],
   "source": []
  },
  {
   "cell_type": "code",
   "execution_count": null,
   "id": "db9cbd71-037f-419d-b1a8-d5fb26d3eec4",
   "metadata": {},
   "outputs": [],
   "source": []
  },
  {
   "cell_type": "code",
   "execution_count": 85,
   "id": "ab02cd76-6a7b-498a-b58c-e6446f3ca7da",
   "metadata": {},
   "outputs": [],
   "source": [
    "df_n = pd.read_sql('select * from notifications', n_db_sql.conn)"
   ]
  },
  {
   "cell_type": "code",
   "execution_count": 86,
   "id": "5e130755-16c1-4c83-b4e4-aa3ce45e2e6b",
   "metadata": {},
   "outputs": [
    {
     "name": "stdout",
     "output_type": "stream",
     "text": [
      "<class 'pandas.core.frame.DataFrame'>\n",
      "RangeIndex: 21707 entries, 0 to 21706\n",
      "Data columns (total 4 columns):\n",
      " #   Column        Non-Null Count  Dtype \n",
      "---  ------        --------------  ----- \n",
      " 0   timestamp     21707 non-null  object\n",
      " 1   sha256        21707 non-null  object\n",
      " 2   flag          21707 non-null  object\n",
      " 3   triggered_by  21707 non-null  object\n",
      "dtypes: object(4)\n",
      "memory usage: 678.5+ KB\n"
     ]
    }
   ],
   "source": [
    "df_n.info()"
   ]
  },
  {
   "cell_type": "code",
   "execution_count": 87,
   "id": "10bd345c-5528-41f8-8c22-b415ca1361cc",
   "metadata": {},
   "outputs": [],
   "source": [
    "df_n['timestamp'] = df_n['timestamp'].astype('float')\n",
    "df_n['timestamp'] = df_n.timestamp.map(lambda x: dtime.fromtimestamp(int(x)))"
   ]
  },
  {
   "cell_type": "code",
   "execution_count": 94,
   "id": "cec158ab-d632-4d86-a693-b89be90be6b1",
   "metadata": {},
   "outputs": [
    {
     "data": {
      "text/html": [
       "<div>\n",
       "<style scoped>\n",
       "    .dataframe tbody tr th:only-of-type {\n",
       "        vertical-align: middle;\n",
       "    }\n",
       "\n",
       "    .dataframe tbody tr th {\n",
       "        vertical-align: top;\n",
       "    }\n",
       "\n",
       "    .dataframe thead th {\n",
       "        text-align: right;\n",
       "    }\n",
       "</style>\n",
       "<table border=\"1\" class=\"dataframe\">\n",
       "  <thead>\n",
       "    <tr style=\"text-align: right;\">\n",
       "      <th></th>\n",
       "      <th>timestamp</th>\n",
       "      <th>sha256</th>\n",
       "      <th>flag</th>\n",
       "      <th>triggered_by</th>\n",
       "    </tr>\n",
       "  </thead>\n",
       "  <tbody>\n",
       "    <tr>\n",
       "      <th>17421</th>\n",
       "      <td>2023-12-17 11:40:33</td>\n",
       "      <td>b4304da4fb6fda441583c6a0c68c059409801a3a0c674b...</td>\n",
       "      <td>0</td>\n",
       "      <td>outer_fence</td>\n",
       "    </tr>\n",
       "    <tr>\n",
       "      <th>1049</th>\n",
       "      <td>2023-12-09 04:52:41</td>\n",
       "      <td>686fb0c94f9425bb65dc1e44dfe6ba1c59ad324fe87a8f...</td>\n",
       "      <td>0</td>\n",
       "      <td>hallway</td>\n",
       "    </tr>\n",
       "    <tr>\n",
       "      <th>800</th>\n",
       "      <td>2023-12-08 22:17:21</td>\n",
       "      <td>86881e202633e06c359beae88e337f1340f4b0f80e4ab6...</td>\n",
       "      <td>0</td>\n",
       "      <td>outer_fence</td>\n",
       "    </tr>\n",
       "    <tr>\n",
       "      <th>11064</th>\n",
       "      <td>2023-12-14 14:27:02</td>\n",
       "      <td>7ce1b52d3585c5603e715433fd834f23b9653d4fe10e37...</td>\n",
       "      <td>0</td>\n",
       "      <td>outer_fence</td>\n",
       "    </tr>\n",
       "    <tr>\n",
       "      <th>643</th>\n",
       "      <td>2023-12-08 20:50:42</td>\n",
       "      <td>df3cd26732719d1c165b8fd6aa2fc6f98c670fc651db8c...</td>\n",
       "      <td>0</td>\n",
       "      <td>outer_fence</td>\n",
       "    </tr>\n",
       "    <tr>\n",
       "      <th>489</th>\n",
       "      <td>2023-12-08 20:11:10</td>\n",
       "      <td>9b20306edb071cc2a29ab56954447d30d2194153d7cf53...</td>\n",
       "      <td>0</td>\n",
       "      <td>garden</td>\n",
       "    </tr>\n",
       "    <tr>\n",
       "      <th>6294</th>\n",
       "      <td>2023-12-12 11:07:54</td>\n",
       "      <td>df98739db60332f20640e868e09c62812635200c20b41b...</td>\n",
       "      <td>0</td>\n",
       "      <td>outer_fence</td>\n",
       "    </tr>\n",
       "    <tr>\n",
       "      <th>6449</th>\n",
       "      <td>2023-12-11 12:47:10</td>\n",
       "      <td>8a40ff51bfde10709955f6f8bf74a0d56154a2ded3f51f...</td>\n",
       "      <td>0</td>\n",
       "      <td>hallway</td>\n",
       "    </tr>\n",
       "    <tr>\n",
       "      <th>3172</th>\n",
       "      <td>2023-12-10 09:42:24</td>\n",
       "      <td>922e28c292e0a5a63d7441c681a7eed70dd18a42373cc4...</td>\n",
       "      <td>0</td>\n",
       "      <td>hallway</td>\n",
       "    </tr>\n",
       "    <tr>\n",
       "      <th>1894</th>\n",
       "      <td>2023-12-09 10:27:25</td>\n",
       "      <td>67c109423ed21fd1c012f8285f0efc8856a97bfa5cbdee...</td>\n",
       "      <td>0</td>\n",
       "      <td>garden</td>\n",
       "    </tr>\n",
       "  </tbody>\n",
       "</table>\n",
       "</div>"
      ],
      "text/plain": [
       "                timestamp                                             sha256  \\\n",
       "17421 2023-12-17 11:40:33  b4304da4fb6fda441583c6a0c68c059409801a3a0c674b...   \n",
       "1049  2023-12-09 04:52:41  686fb0c94f9425bb65dc1e44dfe6ba1c59ad324fe87a8f...   \n",
       "800   2023-12-08 22:17:21  86881e202633e06c359beae88e337f1340f4b0f80e4ab6...   \n",
       "11064 2023-12-14 14:27:02  7ce1b52d3585c5603e715433fd834f23b9653d4fe10e37...   \n",
       "643   2023-12-08 20:50:42  df3cd26732719d1c165b8fd6aa2fc6f98c670fc651db8c...   \n",
       "489   2023-12-08 20:11:10  9b20306edb071cc2a29ab56954447d30d2194153d7cf53...   \n",
       "6294  2023-12-12 11:07:54  df98739db60332f20640e868e09c62812635200c20b41b...   \n",
       "6449  2023-12-11 12:47:10  8a40ff51bfde10709955f6f8bf74a0d56154a2ded3f51f...   \n",
       "3172  2023-12-10 09:42:24  922e28c292e0a5a63d7441c681a7eed70dd18a42373cc4...   \n",
       "1894  2023-12-09 10:27:25  67c109423ed21fd1c012f8285f0efc8856a97bfa5cbdee...   \n",
       "\n",
       "      flag triggered_by  \n",
       "17421    0  outer_fence  \n",
       "1049     0      hallway  \n",
       "800      0  outer_fence  \n",
       "11064    0  outer_fence  \n",
       "643      0  outer_fence  \n",
       "489      0       garden  \n",
       "6294     0  outer_fence  \n",
       "6449     0      hallway  \n",
       "3172     0      hallway  \n",
       "1894     0       garden  "
      ]
     },
     "execution_count": 94,
     "metadata": {},
     "output_type": "execute_result"
    }
   ],
   "source": [
    "df_n.sample(10)"
   ]
  },
  {
   "cell_type": "code",
   "execution_count": 92,
   "id": "32fce630-c7ce-45ae-b27a-dabb72e2b0bc",
   "metadata": {},
   "outputs": [
    {
     "data": {
      "text/html": [
       "<div>\n",
       "<style scoped>\n",
       "    .dataframe tbody tr th:only-of-type {\n",
       "        vertical-align: middle;\n",
       "    }\n",
       "\n",
       "    .dataframe tbody tr th {\n",
       "        vertical-align: top;\n",
       "    }\n",
       "\n",
       "    .dataframe thead th {\n",
       "        text-align: right;\n",
       "    }\n",
       "</style>\n",
       "<table border=\"1\" class=\"dataframe\">\n",
       "  <thead>\n",
       "    <tr style=\"text-align: right;\">\n",
       "      <th></th>\n",
       "      <th>timestamp</th>\n",
       "      <th>sha256</th>\n",
       "      <th>flag</th>\n",
       "    </tr>\n",
       "    <tr>\n",
       "      <th>triggered_by</th>\n",
       "      <th></th>\n",
       "      <th></th>\n",
       "      <th></th>\n",
       "    </tr>\n",
       "  </thead>\n",
       "  <tbody>\n",
       "    <tr>\n",
       "      <th>garden</th>\n",
       "      <td>3826</td>\n",
       "      <td>3826</td>\n",
       "      <td>3826</td>\n",
       "    </tr>\n",
       "    <tr>\n",
       "      <th>hallway</th>\n",
       "      <td>9266</td>\n",
       "      <td>9266</td>\n",
       "      <td>9266</td>\n",
       "    </tr>\n",
       "    <tr>\n",
       "      <th>outer_fence</th>\n",
       "      <td>8615</td>\n",
       "      <td>8615</td>\n",
       "      <td>8615</td>\n",
       "    </tr>\n",
       "  </tbody>\n",
       "</table>\n",
       "</div>"
      ],
      "text/plain": [
       "              timestamp  sha256  flag\n",
       "triggered_by                         \n",
       "garden             3826    3826  3826\n",
       "hallway            9266    9266  9266\n",
       "outer_fence        8615    8615  8615"
      ]
     },
     "execution_count": 92,
     "metadata": {},
     "output_type": "execute_result"
    }
   ],
   "source": [
    "df_n.groupby('triggered_by').count()"
   ]
  },
  {
   "cell_type": "code",
   "execution_count": 95,
   "id": "b9124147-883a-4fba-9839-dbe0e351119b",
   "metadata": {},
   "outputs": [
    {
     "data": {
      "text/html": [
       "<div>\n",
       "<style scoped>\n",
       "    .dataframe tbody tr th:only-of-type {\n",
       "        vertical-align: middle;\n",
       "    }\n",
       "\n",
       "    .dataframe tbody tr th {\n",
       "        vertical-align: top;\n",
       "    }\n",
       "\n",
       "    .dataframe thead th {\n",
       "        text-align: right;\n",
       "    }\n",
       "</style>\n",
       "<table border=\"1\" class=\"dataframe\">\n",
       "  <thead>\n",
       "    <tr style=\"text-align: right;\">\n",
       "      <th></th>\n",
       "      <th>timestamp</th>\n",
       "    </tr>\n",
       "  </thead>\n",
       "  <tbody>\n",
       "    <tr>\n",
       "      <th>count</th>\n",
       "      <td>21707</td>\n",
       "    </tr>\n",
       "    <tr>\n",
       "      <th>mean</th>\n",
       "      <td>2023-12-14 06:58:09.519371776</td>\n",
       "    </tr>\n",
       "    <tr>\n",
       "      <th>min</th>\n",
       "      <td>2023-12-08 18:09:48</td>\n",
       "    </tr>\n",
       "    <tr>\n",
       "      <th>25%</th>\n",
       "      <td>2023-12-11 13:12:29.500000</td>\n",
       "    </tr>\n",
       "    <tr>\n",
       "      <th>50%</th>\n",
       "      <td>2023-12-14 12:43:04</td>\n",
       "    </tr>\n",
       "    <tr>\n",
       "      <th>75%</th>\n",
       "      <td>2023-12-16 22:41:31.500000</td>\n",
       "    </tr>\n",
       "    <tr>\n",
       "      <th>max</th>\n",
       "      <td>2023-12-19 11:15:38</td>\n",
       "    </tr>\n",
       "  </tbody>\n",
       "</table>\n",
       "</div>"
      ],
      "text/plain": [
       "                           timestamp\n",
       "count                          21707\n",
       "mean   2023-12-14 06:58:09.519371776\n",
       "min              2023-12-08 18:09:48\n",
       "25%       2023-12-11 13:12:29.500000\n",
       "50%              2023-12-14 12:43:04\n",
       "75%       2023-12-16 22:41:31.500000\n",
       "max              2023-12-19 11:15:38"
      ]
     },
     "execution_count": 95,
     "metadata": {},
     "output_type": "execute_result"
    }
   ],
   "source": [
    "df_n.describe()"
   ]
  },
  {
   "cell_type": "code",
   "execution_count": 130,
   "id": "cbbf7b4e-6836-4075-92f7-44d53cf3359e",
   "metadata": {},
   "outputs": [
    {
     "data": {
      "text/plain": [
       "<Axes: xlabel='timestamp'>"
      ]
     },
     "execution_count": 130,
     "metadata": {},
     "output_type": "execute_result"
    },
    {
     "data": {
      "image/png": "[encoded data removed]",
      "text/plain": [
       "<Figure size 640x480 with 1 Axes>"
      ]
     },
     "metadata": {},
     "output_type": "display_data"
    }
   ],
   "source": [
    "((df_n.groupby(df_n.timestamp.dt.hour).count())/ len(df_n.timestamp.dt.date.unique()))['timestamp'].plot.bar(legend=False)"
   ]
  },
  {
   "cell_type": "code",
   "execution_count": 131,
   "id": "4c0d5d4b-77c2-4dd8-b755-29bed8d3d985",
   "metadata": {},
   "outputs": [
    {
     "data": {
      "text/plain": [
       "<Axes: xlabel='timestamp'>"
      ]
     },
     "execution_count": 131,
     "metadata": {},
     "output_type": "execute_result"
    },
    {
     "data": {
      "image/png": "[encoded data removed]",
      "text/plain": [
       "<Figure size 640x480 with 1 Axes>"
      ]
     },
     "metadata": {},
     "output_type": "display_data"
    }
   ],
   "source": [
    "df_n_of = df_n[df_n['triggered_by'] == 'outer_fence']\n",
    "\n",
    "((df_n_of.groupby(df_n_of.timestamp.dt.hour).count())/ len(df_n_of.timestamp.dt.date.unique()))['timestamp'].plot.bar(legend=False)"
   ]
  },
  {
   "cell_type": "code",
   "execution_count": 132,
   "id": "d2b73508-aef5-4e73-b91e-105dd02b18d4",
   "metadata": {},
   "outputs": [
    {
     "data": {
      "text/plain": [
       "<Axes: xlabel='timestamp'>"
      ]
     },
     "execution_count": 132,
     "metadata": {},
     "output_type": "execute_result"
    },
    {
     "data": {
      "image/png": "[encoded data removed]",
      "text/plain": [
       "<Figure size 640x480 with 1 Axes>"
      ]
     },
     "metadata": {},
     "output_type": "display_data"
    }
   ],
   "source": [
    "df_n_gd = df_n[df_n['triggered_by'] == 'garden']\n",
    "\n",
    "((df_n_gd.groupby(df_n_gd.timestamp.dt.hour).count())/ len(df_n_gd.timestamp.dt.date.unique()))['timestamp'].plot.bar(legend=False)"
   ]
  },
  {
   "cell_type": "code",
   "execution_count": 133,
   "id": "aadcd16e-cd49-44f8-80a7-bf10769b1ef6",
   "metadata": {},
   "outputs": [
    {
     "data": {
      "text/plain": [
       "<Axes: xlabel='timestamp'>"
      ]
     },
     "execution_count": 133,
     "metadata": {},
     "output_type": "execute_result"
    },
    {
     "data": {
      "image/png": "[encoded data removed]",
      "text/plain": [
       "<Figure size 640x480 with 1 Axes>"
      ]
     },
     "metadata": {},
     "output_type": "display_data"
    }
   ],
   "source": [
    "df_n_hw = df_n[df_n['triggered_by'] == 'hallway']\n",
    "\n",
    "((df_n_hw.groupby(df_n_hw.timestamp.dt.hour).count())/ len(df_n_hw.timestamp.dt.date.unique()))['timestamp'].plot.bar(legend=False)"
   ]
  },
  {
   "cell_type": "code",
   "execution_count": 152,
   "id": "ea426d69-9440-4ca3-9e3c-74b2c0d573bd",
   "metadata": {},
   "outputs": [
    {
     "data": {
      "text/plain": [
       "<Axes: >"
      ]
     },
     "execution_count": 152,
     "metadata": {},
     "output_type": "execute_result"
    },
    {
     "data": {
      "image/png": "[encoded data removed]",
      "text/plain": [
       "<Figure size 640x480 with 1 Axes>"
      ]
     },
     "metadata": {},
     "output_type": "display_data"
    }
   ],
   "source": [
    "df_n.timestamp.dt.hour.hist()"
   ]
  },
  {
   "cell_type": "code",
   "execution_count": 141,
   "id": "55376557-5a6a-4f0d-8834-5d9f20c8d8fa",
   "metadata": {},
   "outputs": [
    {
     "ename": "TypeError",
     "evalue": "'<' not supported between instances of 'datetime.time' and 'float'",
     "output_type": "error",
     "traceback": [
      "\u001b[0;31m---------------------------------------------------------------------------\u001b[0m",
      "\u001b[0;31mTypeError\u001b[0m                                 Traceback (most recent call last)",
      "Cell \u001b[0;32mIn[141], line 1\u001b[0m\n\u001b[0;32m----> 1\u001b[0m plt\u001b[38;5;241m.\u001b[39mhist(data, bins\u001b[38;5;241m=\u001b[39m\u001b[38;5;241m10\u001b[39m)\n",
      "File \u001b[0;32m~/anaconda3/lib/python3.11/site-packages/matplotlib/pyplot.py:3224\u001b[0m, in \u001b[0;36mhist\u001b[0;34m(x, bins, range, density, weights, cumulative, bottom, histtype, align, orientation, rwidth, log, color, label, stacked, data, **kwargs)\u001b[0m\n\u001b[1;32m   3199\u001b[0m \u001b[38;5;129m@_copy_docstring_and_deprecators\u001b[39m(Axes\u001b[38;5;241m.\u001b[39mhist)\n\u001b[1;32m   3200\u001b[0m \u001b[38;5;28;01mdef\u001b[39;00m \u001b[38;5;21mhist\u001b[39m(\n\u001b[1;32m   3201\u001b[0m     x: ArrayLike \u001b[38;5;241m|\u001b[39m Sequence[ArrayLike],\n\u001b[0;32m   (...)\u001b[0m\n\u001b[1;32m   3222\u001b[0m     BarContainer \u001b[38;5;241m|\u001b[39m Polygon \u001b[38;5;241m|\u001b[39m \u001b[38;5;28mlist\u001b[39m[BarContainer \u001b[38;5;241m|\u001b[39m Polygon],\n\u001b[1;32m   3223\u001b[0m ]:\n\u001b[0;32m-> 3224\u001b[0m     \u001b[38;5;28;01mreturn\u001b[39;00m gca()\u001b[38;5;241m.\u001b[39mhist(\n\u001b[1;32m   3225\u001b[0m         x,\n\u001b[1;32m   3226\u001b[0m         bins\u001b[38;5;241m=\u001b[39mbins,\n\u001b[1;32m   3227\u001b[0m         \u001b[38;5;28mrange\u001b[39m\u001b[38;5;241m=\u001b[39m\u001b[38;5;28mrange\u001b[39m,\n\u001b[1;32m   3228\u001b[0m         density\u001b[38;5;241m=\u001b[39mdensity,\n\u001b[1;32m   3229\u001b[0m         weights\u001b[38;5;241m=\u001b[39mweights,\n\u001b[1;32m   3230\u001b[0m         cumulative\u001b[38;5;241m=\u001b[39mcumulative,\n\u001b[1;32m   3231\u001b[0m         bottom\u001b[38;5;241m=\u001b[39mbottom,\n\u001b[1;32m   3232\u001b[0m         histtype\u001b[38;5;241m=\u001b[39mhisttype,\n\u001b[1;32m   3233\u001b[0m         align\u001b[38;5;241m=\u001b[39malign,\n\u001b[1;32m   3234\u001b[0m         orientation\u001b[38;5;241m=\u001b[39morientation,\n\u001b[1;32m   3235\u001b[0m         rwidth\u001b[38;5;241m=\u001b[39mrwidth,\n\u001b[1;32m   3236\u001b[0m         log\u001b[38;5;241m=\u001b[39mlog,\n\u001b[1;32m   3237\u001b[0m         color\u001b[38;5;241m=\u001b[39mcolor,\n\u001b[1;32m   3238\u001b[0m         label\u001b[38;5;241m=\u001b[39mlabel,\n\u001b[1;32m   3239\u001b[0m         stacked\u001b[38;5;241m=\u001b[39mstacked,\n\u001b[1;32m   3240\u001b[0m         \u001b[38;5;241m*\u001b[39m\u001b[38;5;241m*\u001b[39m({\u001b[38;5;124m\"\u001b[39m\u001b[38;5;124mdata\u001b[39m\u001b[38;5;124m\"\u001b[39m: data} \u001b[38;5;28;01mif\u001b[39;00m data \u001b[38;5;129;01mis\u001b[39;00m \u001b[38;5;129;01mnot\u001b[39;00m \u001b[38;5;28;01mNone\u001b[39;00m \u001b[38;5;28;01melse\u001b[39;00m {}),\n\u001b[1;32m   3241\u001b[0m         \u001b[38;5;241m*\u001b[39m\u001b[38;5;241m*\u001b[39mkwargs,\n\u001b[1;32m   3242\u001b[0m     )\n",
      "File \u001b[0;32m~/anaconda3/lib/python3.11/site-packages/matplotlib/__init__.py:1465\u001b[0m, in \u001b[0;36m_preprocess_data.<locals>.inner\u001b[0;34m(ax, data, *args, **kwargs)\u001b[0m\n\u001b[1;32m   1462\u001b[0m \u001b[38;5;129m@functools\u001b[39m\u001b[38;5;241m.\u001b[39mwraps(func)\n\u001b[1;32m   1463\u001b[0m \u001b[38;5;28;01mdef\u001b[39;00m \u001b[38;5;21minner\u001b[39m(ax, \u001b[38;5;241m*\u001b[39margs, data\u001b[38;5;241m=\u001b[39m\u001b[38;5;28;01mNone\u001b[39;00m, \u001b[38;5;241m*\u001b[39m\u001b[38;5;241m*\u001b[39mkwargs):\n\u001b[1;32m   1464\u001b[0m     \u001b[38;5;28;01mif\u001b[39;00m data \u001b[38;5;129;01mis\u001b[39;00m \u001b[38;5;28;01mNone\u001b[39;00m:\n\u001b[0;32m-> 1465\u001b[0m         \u001b[38;5;28;01mreturn\u001b[39;00m func(ax, \u001b[38;5;241m*\u001b[39m\u001b[38;5;28mmap\u001b[39m(sanitize_sequence, args), \u001b[38;5;241m*\u001b[39m\u001b[38;5;241m*\u001b[39mkwargs)\n\u001b[1;32m   1467\u001b[0m     bound \u001b[38;5;241m=\u001b[39m new_sig\u001b[38;5;241m.\u001b[39mbind(ax, \u001b[38;5;241m*\u001b[39margs, \u001b[38;5;241m*\u001b[39m\u001b[38;5;241m*\u001b[39mkwargs)\n\u001b[1;32m   1468\u001b[0m     auto_label \u001b[38;5;241m=\u001b[39m (bound\u001b[38;5;241m.\u001b[39marguments\u001b[38;5;241m.\u001b[39mget(label_namer)\n\u001b[1;32m   1469\u001b[0m                   \u001b[38;5;129;01mor\u001b[39;00m bound\u001b[38;5;241m.\u001b[39mkwargs\u001b[38;5;241m.\u001b[39mget(label_namer))\n",
      "File \u001b[0;32m~/anaconda3/lib/python3.11/site-packages/matplotlib/axes/_axes.py:6826\u001b[0m, in \u001b[0;36mAxes.hist\u001b[0;34m(self, x, bins, range, density, weights, cumulative, bottom, histtype, align, orientation, rwidth, log, color, label, stacked, **kwargs)\u001b[0m\n\u001b[1;32m   6822\u001b[0m \u001b[38;5;28;01mfor\u001b[39;00m xi \u001b[38;5;129;01min\u001b[39;00m x:\n\u001b[1;32m   6823\u001b[0m     \u001b[38;5;28;01mif\u001b[39;00m \u001b[38;5;28mlen\u001b[39m(xi):\n\u001b[1;32m   6824\u001b[0m         \u001b[38;5;66;03m# python's min/max ignore nan,\u001b[39;00m\n\u001b[1;32m   6825\u001b[0m         \u001b[38;5;66;03m# np.minnan returns nan for all nan input\u001b[39;00m\n\u001b[0;32m-> 6826\u001b[0m         xmin \u001b[38;5;241m=\u001b[39m \u001b[38;5;28mmin\u001b[39m(xmin, np\u001b[38;5;241m.\u001b[39mnanmin(xi))\n\u001b[1;32m   6827\u001b[0m         xmax \u001b[38;5;241m=\u001b[39m \u001b[38;5;28mmax\u001b[39m(xmax, np\u001b[38;5;241m.\u001b[39mnanmax(xi))\n\u001b[1;32m   6828\u001b[0m \u001b[38;5;28;01mif\u001b[39;00m xmin \u001b[38;5;241m<\u001b[39m\u001b[38;5;241m=\u001b[39m xmax:  \u001b[38;5;66;03m# Only happens if we have seen a finite value.\u001b[39;00m\n",
      "\u001b[0;31mTypeError\u001b[0m: '<' not supported between instances of 'datetime.time' and 'float'"
     ]
    },
    {
     "data": {
      "image/png": "[encoded data removed]",
      "text/plain": [
       "<Figure size 640x480 with 1 Axes>"
      ]
     },
     "metadata": {},
     "output_type": "display_data"
    }
   ],
   "source": [
    "plt.hist(data, bins=10)"
   ]
  },
  {
   "cell_type": "code",
   "execution_count": 142,
   "id": "82833edb-cfa9-4b0e-91dd-3aad9f053b57",
   "metadata": {},
   "outputs": [
    {
     "data": {
      "text/plain": [
       "array([datetime.time(18, 9, 48), datetime.time(18, 10, 24),\n",
       "       datetime.time(18, 10, 28), ..., datetime.time(11, 13, 36),\n",
       "       datetime.time(11, 15, 37), datetime.time(11, 15, 38)], dtype=object)"
      ]
     },
     "execution_count": 142,
     "metadata": {},
     "output_type": "execute_result"
    }
   ],
   "source": [
    "data"
   ]
  },
  {
   "cell_type": "code",
   "execution_count": null,
   "id": "cd6c050c-8a8c-43f5-9576-172f4560fabb",
   "metadata": {},
   "outputs": [],
   "source": []
  },
  {
   "cell_type": "code",
   "execution_count": null,
   "id": "1444c89e-24e8-417c-a253-8a3afd625f52",
   "metadata": {},
   "outputs": [],
   "source": []
  },
  {
   "cell_type": "code",
   "execution_count": null,
   "id": "9abe67a7-e92f-475f-97eb-d6b77c5760fd",
   "metadata": {},
   "outputs": [],
   "source": []
  },
  {
   "cell_type": "markdown",
   "id": "7b85bdb2-4d02-4493-8b26-82fde2077a2e",
   "metadata": {},
   "source": [
    "### The idea\n",
    "Inputs:\n",
    "- triggered_by (outer_fence/garden/hallway)\n",
    "- hour\n",
    "- minutes\n",
    "- detection ema hallway hashmap (running 5d)\n",
    "- detection ema outer_fence hashmap (running 5d)\n",
    "- detection ema hallway hashmap (running 5d)\n",
    "\n",
    "Outputs:\n",
    "- Flag 0/1"
   ]
  }
 ],
 "metadata": {
  "kernelspec": {
   "display_name": "Python 3 (ipykernel)",
   "language": "python",
   "name": "python3"
  },
  "language_info": {
   "codemirror_mode": {
    "name": "ipython",
    "version": 3
   },
   "file_extension": ".py",
   "mimetype": "text/x-python",
   "name": "python",
   "nbconvert_exporter": "python",
   "pygments_lexer": "ipython3",
   "version": "3.11.6"
  }
 },
 "nbformat": 4,
 "nbformat_minor": 5
}
