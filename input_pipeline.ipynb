{
 "cells": [
  {
   "cell_type": "code",
   "execution_count": 17,
   "id": "a37c0397-a66d-4820-ad20-a89ee4e69e8d",
   "metadata": {},
   "outputs": [],
   "source": [
    "import pandas as pd\n",
    "import os\n",
    "from os import getcwd, path\n",
    "from global_modules import GlobalOperations, Sqlite_v2\n",
    "go = GlobalOperations()\n",
    "sqlite = Sqlite_v2()"
   ]
  },
  {
   "cell_type": "code",
   "execution_count": 34,
   "id": "f895e6ba-9cf1-4064-a408-14b7355c290d",
   "metadata": {},
   "outputs": [
    {
     "name": "stdout",
     "output_type": "stream",
     "text": [
      "2023-12-19 11:20:22.110857+07:00 Failed to create connection. Trying again. db_path: /Volumes/#PROJECT/motion_detector/db/movement_signal_c.db unable to open database file\n",
      "2023-12-19 11:20:29.703082+07:00 Failed to create connection. Trying again. db_path: /Volumes/#PROJECT/motion_detector/db/notifications_c.db database is locked\n"
     ]
    }
   ],
   "source": [
    "R = getcwd()\n",
    "DB_P = path.join(R, 'db')\n",
    "MV_DB_P = path.join(DB_P, 'movement_signal_c.db')\n",
    "N_DB_P = path.join(DB_P, 'notifications_c.db')\n",
    "MV_DB_C = sqlite.create_connection(MV_DB_P)\n",
    "N_DB_C = sqlite.create_connection(N_DB_P)"
   ]
  },
  {
   "cell_type": "code",
   "execution_count": 33,
   "id": "a4ac8498-1cf4-495d-bee1-712c54f25804",
   "metadata": {},
   "outputs": [
    {
     "ename": "AttributeError",
     "evalue": "'NoneType' object has no attribute 'cursor'",
     "output_type": "error",
     "traceback": [
      "\u001b[0;31m---------------------------------------------------------------------------\u001b[0m",
      "\u001b[0;31mAttributeError\u001b[0m                            Traceback (most recent call last)",
      "Cell \u001b[0;32mIn[33], line 1\u001b[0m\n\u001b[0;32m----> 1\u001b[0m cur \u001b[38;5;241m=\u001b[39m N_DB_C\u001b[38;5;241m.\u001b[39mcursor()\n\u001b[1;32m      2\u001b[0m cur_exc \u001b[38;5;241m=\u001b[39m cur\u001b[38;5;241m.\u001b[39mexecute(\u001b[38;5;124m\"\u001b[39m\u001b[38;5;124mselect name from sqlite_master where type=\u001b[39m\u001b[38;5;124m'\u001b[39m\u001b[38;5;124mtable\u001b[39m\u001b[38;5;124m'\u001b[39m\u001b[38;5;124m\"\u001b[39m)\n\u001b[1;32m      3\u001b[0m \u001b[38;5;28mprint\u001b[39m(cur_exc\u001b[38;5;241m.\u001b[39mfetchall())\n",
      "\u001b[0;31mAttributeError\u001b[0m: 'NoneType' object has no attribute 'cursor'"
     ]
    }
   ],
   "source": [
    "cur = N_DB_C.cursor()\n",
    "cur_exc = cur.execute(\"select name from sqlite_master where type='table'\")\n",
    "print(cur_exc.fetchall())"
   ]
  },
  {
   "cell_type": "code",
   "execution_count": 8,
   "id": "f62571e8-1d92-45d5-9583-3ee0813ef57e",
   "metadata": {},
   "outputs": [
    {
     "data": {
      "text/plain": [
       "'/Volumes/#PROJECT/motion_detector'"
      ]
     },
     "execution_count": 8,
     "metadata": {},
     "output_type": "execute_result"
    }
   ],
   "source": [
    "getcwd()"
   ]
  },
  {
   "cell_type": "code",
   "execution_count": 5,
   "id": "dc2b6f14-5abe-42b3-bb5f-0e297cbe1b66",
   "metadata": {},
   "outputs": [
    {
     "data": {
      "text/plain": [
       "'/Volumes/#PROJECT/motion_detector/analysis'"
      ]
     },
     "execution_count": 5,
     "metadata": {},
     "output_type": "execute_result"
    }
   ],
   "source": [
    "go.cwd"
   ]
  },
  {
   "cell_type": "code",
   "execution_count": 22,
   "id": "29806d8d-15f2-4555-9931-7fec925f93d0",
   "metadata": {},
   "outputs": [
    {
     "data": {
      "text/plain": [
       "False"
      ]
     },
     "execution_count": 22,
     "metadata": {},
     "output_type": "execute_result"
    }
   ],
   "source": [
    "os.path.exists(MV_DB_P)"
   ]
  },
  {
   "cell_type": "code",
   "execution_count": 23,
   "id": "1e891c3c-906e-4bf5-a16d-237368691f4d",
   "metadata": {},
   "outputs": [
    {
     "data": {
      "text/plain": [
       "'/Volumes/#PROJECT/db/movement_signal.db'"
      ]
     },
     "execution_count": 23,
     "metadata": {},
     "output_type": "execute_result"
    }
   ],
   "source": [
    "MV_DB_P"
   ]
  },
  {
   "cell_type": "code",
   "execution_count": 24,
   "id": "8377097e-eda8-44c1-a712-9cdcc047801c",
   "metadata": {},
   "outputs": [
    {
     "data": {
      "text/plain": [
       "False"
      ]
     },
     "execution_count": 24,
     "metadata": {},
     "output_type": "execute_result"
    }
   ],
   "source": [
    "os.path.exists(DB_P)"
   ]
  },
  {
   "cell_type": "code",
   "execution_count": 25,
   "id": "72b371ec-55f1-4962-936e-91bca71caf11",
   "metadata": {},
   "outputs": [
    {
     "data": {
      "text/plain": [
       "True"
      ]
     },
     "execution_count": 25,
     "metadata": {},
     "output_type": "execute_result"
    }
   ],
   "source": [
    "os.path.exists(R)"
   ]
  },
  {
   "cell_type": "code",
   "execution_count": 26,
   "id": "ba7e45ce-d443-4341-9c6f-8079aae3cfce",
   "metadata": {},
   "outputs": [
    {
     "data": {
      "text/plain": [
       "'/Volumes/#PROJECT/motion_detector'"
      ]
     },
     "execution_count": 26,
     "metadata": {},
     "output_type": "execute_result"
    }
   ],
   "source": [
    "R"
   ]
  },
  {
   "cell_type": "code",
   "execution_count": null,
   "id": "ab02cd76-6a7b-498a-b58c-e6446f3ca7da",
   "metadata": {},
   "outputs": [],
   "source": []
  }
 ],
 "metadata": {
  "kernelspec": {
   "display_name": "Python 3 (ipykernel)",
   "language": "python",
   "name": "python3"
  },
  "language_info": {
   "codemirror_mode": {
    "name": "ipython",
    "version": 3
   },
   "file_extension": ".py",
   "mimetype": "text/x-python",
   "name": "python",
   "nbconvert_exporter": "python",
   "pygments_lexer": "ipython3",
   "version": "3.11.6"
  }
 },
 "nbformat": 4,
 "nbformat_minor": 5
}
