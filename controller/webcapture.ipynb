{
 "cells": [
  {
   "cell_type": "code",
   "execution_count": 17,
   "id": "88c68f89-5122-475f-9d91-4a89e4d547a6",
   "metadata": {},
   "outputs": [],
   "source": [
    "import os\n",
    "import time\n",
    "import sys, getopt\n",
    "from tqdm import trange\n",
    "\n",
    "from selenium import webdriver\n",
    "from selenium.webdriver.common.by import By\n",
    "from selenium.webdriver.support.ui import WebDriverWait\n",
    "from selenium.webdriver.support import expected_conditions as EC\n",
    "from selenium.webdriver.firefox.options import Options\n",
    "from selenium.webdriver.firefox.service import Service\n",
    "# import selenium.common.exceptions.WebDriverException\n",
    "\n",
    "capture_interval = 1 #second(s)\n",
    "live_for = 240 #second(s), server lived for\n",
    "capture_per_session = int(live_for / capture_interval)\n",
    "wait_timeout = 20 #second(s)\n",
    "\n",
    "root_path = os.getcwd()\n",
    "browser_bin_path = r'C:\\Program Files\\Mozilla Firefox\\firefox.exe'\n",
    "bin_path = os.path.join(root_path, 'bin')\n",
    "driver_bin_path = os.path.join(bin_path, 'geckodriver.exe')\n",
    "\n",
    "options = Options()\n",
    "options.binary_location = browser_bin_path\n",
    "service = Service(driver_bin_path)\n",
    "\n",
    "def main(argv):\n",
    "    opts, args = getopt.getopt(argv, \"hu:\")\n",
    "    for opt, arg in opts:\n",
    "        if opt == '-h':\n",
    "            print('-u <urlhost>')\n",
    "            sys.exit()\n",
    "        elif opt in ('-u'):\n",
    "            return arg\n",
    "        else:\n",
    "            print('Please specify urlhost parameter first')\n",
    "            sys.exit()\n",
    "            \n",
    "\n",
    "# Serve forever\n",
    "if __name__ == \"__main__\":\n",
    "    urlhost = main(sys.argv[1:])\n",
    "    print(f'Starting Hikvision capture server at {urlhost}')\n",
    "    \n",
    "    try:\n",
    "        print('Start new instance')\n",
    "        with webdriver.Firefox(service=service, options=options) as driver:\n",
    "\n",
    "            wait = WebDriverWait(driver, wait_timeout)\n",
    "            driver.get(f\"http://{urlhost}/\")\n",
    "\n",
    "            # Relogin every start of capture session\n",
    "            while True:\n",
    "                # Login page\n",
    "                wait.until(EC.element_to_be_clickable((By.XPATH, '/html/body/div[2]/table/tbody/tr/td[2]/div/div[5]/button')))\n",
    "                driver.find_element('id', 'username').send_keys('admin')\n",
    "                driver.find_element('id', 'password').send_keys('Valerian@live1')\n",
    "                driver.find_element('xpath', '/html/body/div[2]/table/tbody/tr/td[2]/div/div[5]/button').click()    \n",
    "                print(f'Login success at {urlhost}')\n",
    "\n",
    "                # Capture button\n",
    "                print(f'Capturing frames at {urlhost}...')\n",
    "                wait.until(EC.element_to_be_clickable((By.XPATH, '/html/body/div[4]/div[2]/div/div[2]/span/button[3]')))\n",
    "                for _ in trange(capture_per_session):\n",
    "                    wait.until(EC.element_to_be_clickable((By.XPATH, '/html/body/div[4]/div[2]/div/div[2]/span/button[3]')))\n",
    "                    driver.find_element('xpath', '/html/body/div[4]/div[2]/div/div[2]/span/button[3]').click()\n",
    "                    time.sleep(capture_interval)\n",
    "\n",
    "                # Logout session\n",
    "                # Logout button on main frame\n",
    "                wait.until(EC.element_to_be_clickable((By.XPATH, '/html/body/div[2]/div/div[2]/div[5]')))\n",
    "                driver.find_element('xpath', '/html/body/div[2]/div/div[2]/div[5]').click()\n",
    "                # Popup confirmation\n",
    "                wait.until(EC.element_to_be_clickable((By.XPATH, '/html/body/div[1]/div/table/tbody/tr[2]/td[2]/div/table/tbody/tr[3]/td/div/button[1]')))\n",
    "                driver.find_element('xpath', '/html/body/div[1]/div/table/tbody/tr[2]/td[2]/div/table/tbody/tr[3]/td/div/button[1]').click()\n",
    "                print('End of capture session. Reloggin...')\n",
    "\n",
    "    except KeyboardInterrupt:\n",
    "        print(f'Stopping Hikvision capture server at {urlhost}')\n",
    "        pass\n"
   ]
  },
  {
   "cell_type": "code",
   "execution_count": 18,
   "id": "07d84e01-b80d-404c-9f36-365f3c84dee8",
   "metadata": {},
   "outputs": [
    {
     "data": {
      "text/plain": [
       "'jonat'"
      ]
     },
     "execution_count": 18,
     "metadata": {},
     "output_type": "execute_result"
    }
   ],
   "source": [
    "os.getlogin()"
   ]
  },
  {
   "cell_type": "code",
   "execution_count": null,
   "id": "c8c4d574-126e-4a04-9c57-09a2447c4cca",
   "metadata": {},
   "outputs": [],
   "source": []
  }
 ],
 "metadata": {
  "kernelspec": {
   "display_name": "Python [conda env:selenium]",
   "language": "python",
   "name": "conda-env-selenium-py"
  },
  "language_info": {
   "codemirror_mode": {
    "name": "ipython",
    "version": 3
   },
   "file_extension": ".py",
   "mimetype": "text/x-python",
   "name": "python",
   "nbconvert_exporter": "python",
   "pygments_lexer": "ipython3",
   "version": "3.10.8"
  }
 },
 "nbformat": 4,
 "nbformat_minor": 5
}
