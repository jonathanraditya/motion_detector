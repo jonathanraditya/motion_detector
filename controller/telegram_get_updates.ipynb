{
 "cells": [
  {
   "cell_type": "code",
   "execution_count": 1,
   "id": "02821288-ff18-4791-9c37-510b6b6e28ae",
   "metadata": {},
   "outputs": [],
   "source": [
    "import requests\n",
    "token = '2002016705:AAGcXBOdx_OAj5LSVxu1LAjVO_xIih8bdfA'\n",
    "url = f'https://api.telegram.org/bot{token}/getUpdates'\n",
    "\n"
   ]
  },
  {
   "cell_type": "code",
   "execution_count": 4,
   "id": "73ea6499-8f28-4de5-8423-ea4e44789845",
   "metadata": {},
   "outputs": [],
   "source": [
    "res = requests.post(url).json()"
   ]
  },
  {
   "cell_type": "code",
   "execution_count": 5,
   "id": "6889963e-dbf5-45a1-b68b-6a9dbd94c2ee",
   "metadata": {},
   "outputs": [
    {
     "data": {
      "text/plain": [
       "{'ok': True,\n",
       " 'result': [{'update_id': 391212789,\n",
       "   'message': {'message_id': 54906,\n",
       "    'from': {'id': 1293826547,\n",
       "     'is_bot': False,\n",
       "     'first_name': 'Jo',\n",
       "     'username': 'jonathanraditya',\n",
       "     'language_code': 'en'},\n",
       "    'chat': {'id': 1293826547,\n",
       "     'first_name': 'Jo',\n",
       "     'username': 'jonathanraditya',\n",
       "     'type': 'private'},\n",
       "    'date': 1671602265,\n",
       "    'text': 'ito'}}]}"
      ]
     },
     "execution_count": 5,
     "metadata": {},
     "output_type": "execute_result"
    }
   ],
   "source": [
    "res"
   ]
  },
  {
   "cell_type": "code",
   "execution_count": 8,
   "id": "f684d5f6-4abb-4537-b621-a4180ea07ac4",
   "metadata": {},
   "outputs": [],
   "source": [
    "res = requests.post(url).json()"
   ]
  },
  {
   "cell_type": "code",
   "execution_count": 9,
   "id": "197fc4b6-69c3-4934-b77a-c4d46867f31f",
   "metadata": {},
   "outputs": [
    {
     "data": {
      "text/plain": [
       "{'ok': True,\n",
       " 'result': [{'update_id': 391212789,\n",
       "   'message': {'message_id': 54906,\n",
       "    'from': {'id': 1293826547,\n",
       "     'is_bot': False,\n",
       "     'first_name': 'Jo',\n",
       "     'username': 'jonathanraditya',\n",
       "     'language_code': 'en'},\n",
       "    'chat': {'id': 1293826547,\n",
       "     'first_name': 'Jo',\n",
       "     'username': 'jonathanraditya',\n",
       "     'type': 'private'},\n",
       "    'date': 1671602265,\n",
       "    'text': 'ito'}},\n",
       "  {'update_id': 391212790,\n",
       "   'message': {'message_id': 54914,\n",
       "    'from': {'id': 1217210026,\n",
       "     'is_bot': False,\n",
       "     'first_name': 'reg',\n",
       "     'username': 'reginaac',\n",
       "     'language_code': 'en'},\n",
       "    'chat': {'id': 1217210026,\n",
       "     'first_name': 'reg',\n",
       "     'username': 'reginaac',\n",
       "     'type': 'private'},\n",
       "    'date': 1671602947,\n",
       "    'text': '/start',\n",
       "    'entities': [{'offset': 0, 'length': 6, 'type': 'bot_command'}]}},\n",
       "  {'update_id': 391212791,\n",
       "   'message': {'message_id': 54915,\n",
       "    'from': {'id': 1217210026,\n",
       "     'is_bot': False,\n",
       "     'first_name': 'reg',\n",
       "     'username': 'reginaac',\n",
       "     'language_code': 'en'},\n",
       "    'chat': {'id': 1217210026,\n",
       "     'first_name': 'reg',\n",
       "     'username': 'reginaac',\n",
       "     'type': 'private'},\n",
       "    'date': 1671602954,\n",
       "    'text': 'Chita'}}]}"
      ]
     },
     "execution_count": 9,
     "metadata": {},
     "output_type": "execute_result"
    }
   ],
   "source": [
    "res"
   ]
  },
  {
   "cell_type": "code",
   "execution_count": 14,
   "id": "8d9a0d43-fc41-4ecb-8e4e-14cb2c339d14",
   "metadata": {},
   "outputs": [],
   "source": [
    "res = requests.post(url).json()"
   ]
  },
  {
   "cell_type": "code",
   "execution_count": 15,
   "id": "c243a4f9-3523-4fd6-ab60-c921dc965fec",
   "metadata": {},
   "outputs": [
    {
     "data": {
      "text/plain": [
       "{'ok': True,\n",
       " 'result': [{'update_id': 391212789,\n",
       "   'message': {'message_id': 54906,\n",
       "    'from': {'id': 1293826547,\n",
       "     'is_bot': False,\n",
       "     'first_name': 'Jo',\n",
       "     'username': 'jonathanraditya',\n",
       "     'language_code': 'en'},\n",
       "    'chat': {'id': 1293826547,\n",
       "     'first_name': 'Jo',\n",
       "     'username': 'jonathanraditya',\n",
       "     'type': 'private'},\n",
       "    'date': 1671602265,\n",
       "    'text': 'ito'}},\n",
       "  {'update_id': 391212790,\n",
       "   'message': {'message_id': 54914,\n",
       "    'from': {'id': 1217210026,\n",
       "     'is_bot': False,\n",
       "     'first_name': 'reg',\n",
       "     'username': 'reginaac',\n",
       "     'language_code': 'en'},\n",
       "    'chat': {'id': 1217210026,\n",
       "     'first_name': 'reg',\n",
       "     'username': 'reginaac',\n",
       "     'type': 'private'},\n",
       "    'date': 1671602947,\n",
       "    'text': '/start',\n",
       "    'entities': [{'offset': 0, 'length': 6, 'type': 'bot_command'}]}},\n",
       "  {'update_id': 391212791,\n",
       "   'message': {'message_id': 54915,\n",
       "    'from': {'id': 1217210026,\n",
       "     'is_bot': False,\n",
       "     'first_name': 'reg',\n",
       "     'username': 'reginaac',\n",
       "     'language_code': 'en'},\n",
       "    'chat': {'id': 1217210026,\n",
       "     'first_name': 'reg',\n",
       "     'username': 'reginaac',\n",
       "     'type': 'private'},\n",
       "    'date': 1671602954,\n",
       "    'text': 'Chita'}},\n",
       "  {'update_id': 391212792,\n",
       "   'message': {'message_id': 54922,\n",
       "    'from': {'id': 1217210026,\n",
       "     'is_bot': False,\n",
       "     'first_name': 'reg',\n",
       "     'username': 'reginaac',\n",
       "     'language_code': 'en'},\n",
       "    'chat': {'id': 1217210026,\n",
       "     'first_name': 'reg',\n",
       "     'username': 'reginaac',\n",
       "     'type': 'private'},\n",
       "    'date': 1671603483,\n",
       "    'text': 'ChitA'}},\n",
       "  {'update_id': 391212793,\n",
       "   'message': {'message_id': 55146,\n",
       "    'from': {'id': 5580614403,\n",
       "     'is_bot': False,\n",
       "     'first_name': 'Santi',\n",
       "     'last_name': 'Elisabeth',\n",
       "     'language_code': 'en'},\n",
       "    'chat': {'id': 5580614403,\n",
       "     'first_name': 'Santi',\n",
       "     'last_name': 'Elisabeth',\n",
       "     'type': 'private'},\n",
       "    'date': 1671621449,\n",
       "    'text': '/start',\n",
       "    'entities': [{'offset': 0, 'length': 6, 'type': 'bot_command'}]}},\n",
       "  {'update_id': 391212794,\n",
       "   'message': {'message_id': 55147,\n",
       "    'from': {'id': 5580614403,\n",
       "     'is_bot': False,\n",
       "     'first_name': 'Santi',\n",
       "     'last_name': 'Elisabeth',\n",
       "     'language_code': 'en'},\n",
       "    'chat': {'id': 5580614403,\n",
       "     'first_name': 'Santi',\n",
       "     'last_name': 'Elisabeth',\n",
       "     'type': 'private'},\n",
       "    'date': 1671621466,\n",
       "    'text': 'Te San'}}]}"
      ]
     },
     "execution_count": 15,
     "metadata": {},
     "output_type": "execute_result"
    }
   ],
   "source": [
    "res"
   ]
  },
  {
   "cell_type": "code",
   "execution_count": 16,
   "id": "3d360574-7008-45d7-8832-db888bd26ce5",
   "metadata": {},
   "outputs": [],
   "source": [
    "TOKEN = '2002016705:AAGcXBOdx_OAj5LSVxu1LAjVO_xIih8bdfA'\n",
    "captured_frames_img = open('image_not_found.jpg', 'rb')\n",
    "files = {'photo': captured_frames_img}\n",
    "\n",
    "# Send Messages\n",
    "CHAT_ID = '5580614403'\n",
    "send_message = f'https://api.telegram.org/bot{TOKEN}/sendPhoto?chat_id={CHAT_ID}&caption=test'\n",
    "response = requests.get(send_message, files=files)"
   ]
  },
  {
   "cell_type": "code",
   "execution_count": null,
   "id": "37d8b557-02fd-4bc9-8587-1febb526c861",
   "metadata": {},
   "outputs": [],
   "source": [
    "response"
   ]
  },
  {
   "cell_type": "code",
   "execution_count": null,
   "id": "0c004424-deda-4b4e-a122-4d1b8f8e86d1",
   "metadata": {},
   "outputs": [],
   "source": []
  }
 ],
 "metadata": {
  "kernelspec": {
   "display_name": "Python 3 (ipykernel)",
   "language": "python",
   "name": "python3"
  },
  "language_info": {
   "codemirror_mode": {
    "name": "ipython",
    "version": 3
   },
   "file_extension": ".py",
   "mimetype": "text/x-python",
   "name": "python",
   "nbconvert_exporter": "python",
   "pygments_lexer": "ipython3",
   "version": "3.9.7"
  }
 },
 "nbformat": 4,
 "nbformat_minor": 5
}
