{
 "cells": [
  {
   "cell_type": "code",
   "execution_count": 1,
   "id": "02821288-ff18-4791-9c37-510b6b6e28ae",
   "metadata": {},
   "outputs": [],
   "source": [
    "import requests\n",
    "token = '2002016705:AAGcXBOdx_OAj5LSVxu1LAjVO_xIih8bdfA'\n",
    "url = f'https://api.telegram.org/bot{token}/getUpdates'\n",
    "\n"
   ]
  },
  {
   "cell_type": "code",
   "execution_count": 4,
   "id": "73ea6499-8f28-4de5-8423-ea4e44789845",
   "metadata": {},
   "outputs": [],
   "source": [
    "res = requests.post(url).json()"
   ]
  },
  {
   "cell_type": "code",
   "execution_count": 5,
   "id": "6889963e-dbf5-45a1-b68b-6a9dbd94c2ee",
   "metadata": {},
   "outputs": [
    {
     "data": {
      "text/plain": [
       "{'ok': True,\n",
       " 'result': [{'update_id': 391212789,\n",
       "   'message': {'message_id': 54906,\n",
       "    'from': {'id': 1293826547,\n",
       "     'is_bot': False,\n",
       "     'first_name': 'Jo',\n",
       "     'username': 'jonathanraditya',\n",
       "     'language_code': 'en'},\n",
       "    'chat': {'id': 1293826547,\n",
       "     'first_name': 'Jo',\n",
       "     'username': 'jonathanraditya',\n",
       "     'type': 'private'},\n",
       "    'date': 1671602265,\n",
       "    'text': 'ito'}}]}"
      ]
     },
     "execution_count": 5,
     "metadata": {},
     "output_type": "execute_result"
    }
   ],
   "source": [
    "res"
   ]
  },
  {
   "cell_type": "code",
   "execution_count": 8,
   "id": "f684d5f6-4abb-4537-b621-a4180ea07ac4",
   "metadata": {},
   "outputs": [],
   "source": [
    "res = requests.post(url).json()"
   ]
  },
  {
   "cell_type": "code",
   "execution_count": 9,
   "id": "197fc4b6-69c3-4934-b77a-c4d46867f31f",
   "metadata": {},
   "outputs": [
    {
     "data": {
      "text/plain": [
       "{'ok': True,\n",
       " 'result': [{'update_id': 391212789,\n",
       "   'message': {'message_id': 54906,\n",
       "    'from': {'id': 1293826547,\n",
       "     'is_bot': False,\n",
       "     'first_name': 'Jo',\n",
       "     'username': 'jonathanraditya',\n",
       "     'language_code': 'en'},\n",
       "    'chat': {'id': 1293826547,\n",
       "     'first_name': 'Jo',\n",
       "     'username': 'jonathanraditya',\n",
       "     'type': 'private'},\n",
       "    'date': 1671602265,\n",
       "    'text': 'ito'}},\n",
       "  {'update_id': 391212790,\n",
       "   'message': {'message_id': 54914,\n",
       "    'from': {'id': 1217210026,\n",
       "     'is_bot': False,\n",
       "     'first_name': 'reg',\n",
       "     'username': 'reginaac',\n",
       "     'language_code': 'en'},\n",
       "    'chat': {'id': 1217210026,\n",
       "     'first_name': 'reg',\n",
       "     'username': 'reginaac',\n",
       "     'type': 'private'},\n",
       "    'date': 1671602947,\n",
       "    'text': '/start',\n",
       "    'entities': [{'offset': 0, 'length': 6, 'type': 'bot_command'}]}},\n",
       "  {'update_id': 391212791,\n",
       "   'message': {'message_id': 54915,\n",
       "    'from': {'id': 1217210026,\n",
       "     'is_bot': False,\n",
       "     'first_name': 'reg',\n",
       "     'username': 'reginaac',\n",
       "     'language_code': 'en'},\n",
       "    'chat': {'id': 1217210026,\n",
       "     'first_name': 'reg',\n",
       "     'username': 'reginaac',\n",
       "     'type': 'private'},\n",
       "    'date': 1671602954,\n",
       "    'text': 'Chita'}}]}"
      ]
     },
     "execution_count": 9,
     "metadata": {},
     "output_type": "execute_result"
    }
   ],
   "source": [
    "res"
   ]
  },
  {
   "cell_type": "code",
   "execution_count": 14,
   "id": "8d9a0d43-fc41-4ecb-8e4e-14cb2c339d14",
   "metadata": {},
   "outputs": [],
   "source": [
    "res = requests.post(url).json()"
   ]
  },
  {
   "cell_type": "code",
   "execution_count": 15,
   "id": "c243a4f9-3523-4fd6-ab60-c921dc965fec",
   "metadata": {},
   "outputs": [
    {
     "data": {
      "text/plain": [
       "{'ok': True,\n",
       " 'result': [{'update_id': 391212789,\n",
       "   'message': {'message_id': 54906,\n",
       "    'from': {'id': 1293826547,\n",
       "     'is_bot': False,\n",
       "     'first_name': 'Jo',\n",
       "     'username': 'jonathanraditya',\n",
       "     'language_code': 'en'},\n",
       "    'chat': {'id': 1293826547,\n",
       "     'first_name': 'Jo',\n",
       "     'username': 'jonathanraditya',\n",
       "     'type': 'private'},\n",
       "    'date': 1671602265,\n",
       "    'text': 'ito'}},\n",
       "  {'update_id': 391212790,\n",
       "   'message': {'message_id': 54914,\n",
       "    'from': {'id': 1217210026,\n",
       "     'is_bot': False,\n",
       "     'first_name': 'reg',\n",
       "     'username': 'reginaac',\n",
       "     'language_code': 'en'},\n",
       "    'chat': {'id': 1217210026,\n",
       "     'first_name': 'reg',\n",
       "     'username': 'reginaac',\n",
       "     'type': 'private'},\n",
       "    'date': 1671602947,\n",
       "    'text': '/start',\n",
       "    'entities': [{'offset': 0, 'length': 6, 'type': 'bot_command'}]}},\n",
       "  {'update_id': 391212791,\n",
       "   'message': {'message_id': 54915,\n",
       "    'from': {'id': 1217210026,\n",
       "     'is_bot': False,\n",
       "     'first_name': 'reg',\n",
       "     'username': 'reginaac',\n",
       "     'language_code': 'en'},\n",
       "    'chat': {'id': 1217210026,\n",
       "     'first_name': 'reg',\n",
       "     'username': 'reginaac',\n",
       "     'type': 'private'},\n",
       "    'date': 1671602954,\n",
       "    'text': 'Chita'}},\n",
       "  {'update_id': 391212792,\n",
       "   'message': {'message_id': 54922,\n",
       "    'from': {'id': 1217210026,\n",
       "     'is_bot': False,\n",
       "     'first_name': 'reg',\n",
       "     'username': 'reginaac',\n",
       "     'language_code': 'en'},\n",
       "    'chat': {'id': 1217210026,\n",
       "     'first_name': 'reg',\n",
       "     'username': 'reginaac',\n",
       "     'type': 'private'},\n",
       "    'date': 1671603483,\n",
       "    'text': 'ChitA'}},\n",
       "  {'update_id': 391212793,\n",
       "   'message': {'message_id': 55146,\n",
       "    'from': {'id': 5580614403,\n",
       "     'is_bot': False,\n",
       "     'first_name': 'Santi',\n",
       "     'last_name': 'Elisabeth',\n",
       "     'language_code': 'en'},\n",
       "    'chat': {'id': 5580614403,\n",
       "     'first_name': 'Santi',\n",
       "     'last_name': 'Elisabeth',\n",
       "     'type': 'private'},\n",
       "    'date': 1671621449,\n",
       "    'text': '/start',\n",
       "    'entities': [{'offset': 0, 'length': 6, 'type': 'bot_command'}]}},\n",
       "  {'update_id': 391212794,\n",
       "   'message': {'message_id': 55147,\n",
       "    'from': {'id': 5580614403,\n",
       "     'is_bot': False,\n",
       "     'first_name': 'Santi',\n",
       "     'last_name': 'Elisabeth',\n",
       "     'language_code': 'en'},\n",
       "    'chat': {'id': 5580614403,\n",
       "     'first_name': 'Santi',\n",
       "     'last_name': 'Elisabeth',\n",
       "     'type': 'private'},\n",
       "    'date': 1671621466,\n",
       "    'text': 'Te San'}}]}"
      ]
     },
     "execution_count": 15,
     "metadata": {},
     "output_type": "execute_result"
    }
   ],
   "source": [
    "res"
   ]
  },
  {
   "cell_type": "code",
   "execution_count": 5,
   "id": "3d360574-7008-45d7-8832-db888bd26ce5",
   "metadata": {},
   "outputs": [],
   "source": [
    "TOKEN = '2002016705:AAGcXBOdx_OAj5LSVxu1LAjVO_xIih8bdfA'\n",
    "captured_frames_img = open('image_not_found.jpg', 'rb')\n",
    "files = {'photo': captured_frames_img}\n",
    "\n",
    "# Send Messages\n",
    "CHAT_ID = '1293826547'\n",
    "send_message = f'https://api.telegram.org/bot{TOKEN}/sendPhoto?chat_id={CHAT_ID}&caption=test&disable_notification=true'\n",
    "response = requests.get(send_message, files=files)"
   ]
  },
  {
   "cell_type": "code",
   "execution_count": 6,
   "id": "37d8b557-02fd-4bc9-8587-1febb526c861",
   "metadata": {},
   "outputs": [
    {
     "data": {
      "text/plain": [
       "<Response [200]>"
      ]
     },
     "execution_count": 6,
     "metadata": {},
     "output_type": "execute_result"
    }
   ],
   "source": [
    "response"
   ]
  },
  {
   "cell_type": "code",
   "execution_count": 7,
   "id": "0c004424-deda-4b4e-a122-4d1b8f8e86d1",
   "metadata": {},
   "outputs": [
    {
     "data": {
      "text/plain": [
       "b'{\"ok\":true,\"result\":{\"message_id\":150270,\"from\":{\"id\":2002016705,\"is_bot\":true,\"first_name\":\"4935Notifications\",\"username\":\"kampungbali_bot\"},\"chat\":{\"id\":1293826547,\"first_name\":\"Jo\",\"username\":\"jonathanraditya\",\"type\":\"private\"},\"date\":1672664776,\"photo\":[{\"file_id\":\"AgACAgUAAxkDAAECSv5jstbIzSIRpuQynesGQCT1L3_y2wACprMxG4GAmFXlig4sZPVUngEAAwIAA3MAAy0E\",\"file_unique_id\":\"AQADprMxG4GAmFV4\",\"file_size\":873,\"width\":90,\"height\":90},{\"file_id\":\"AgACAgUAAxkDAAECSv5jstbIzSIRpuQynesGQCT1L3_y2wACprMxG4GAmFXlig4sZPVUngEAAwIAA20AAy0E\",\"file_unique_id\":\"AQADprMxG4GAmFVy\",\"file_size\":7015,\"width\":320,\"height\":320},{\"file_id\":\"AgACAgUAAxkDAAECSv5jstbIzSIRpuQynesGQCT1L3_y2wACprMxG4GAmFXlig4sZPVUngEAAwIAA3gAAy0E\",\"file_unique_id\":\"AQADprMxG4GAmFV9\",\"file_size\":7312,\"width\":360,\"height\":360}],\"caption\":\"test\"}}'"
      ]
     },
     "execution_count": 7,
     "metadata": {},
     "output_type": "execute_result"
    }
   ],
   "source": [
    "response.content"
   ]
  },
  {
   "cell_type": "code",
   "execution_count": null,
   "id": "30a1ab47-a721-42ca-bb8a-f0fa6885d55b",
   "metadata": {},
   "outputs": [],
   "source": []
  },
  {
   "cell_type": "markdown",
   "id": "c7afcbc5-c774-4dec-b05a-100c24fafe97",
   "metadata": {},
   "source": [
    "# SellerNotifications bot"
   ]
  },
  {
   "cell_type": "code",
   "execution_count": 10,
   "id": "d069edda-2346-40f6-9862-d8e18a517597",
   "metadata": {},
   "outputs": [],
   "source": [
    "token = '5953300063:AAHAgEaA5NDwtqxWoixu5VRdKlv6RcUiUa4'\n",
    "url = f'https://api.telegram.org/bot{token}/getUpdates'\n",
    "res = requests.post(url).json()"
   ]
  },
  {
   "cell_type": "code",
   "execution_count": 11,
   "id": "ee8f43ca-a324-44bc-8886-268c9b0fd296",
   "metadata": {},
   "outputs": [
    {
     "data": {
      "text/plain": [
       "{'ok': True,\n",
       " 'result': [{'update_id': 492859644,\n",
       "   'message': {'message_id': 3,\n",
       "    'from': {'id': 1293826547,\n",
       "     'is_bot': False,\n",
       "     'first_name': 'Jo',\n",
       "     'username': 'jonathanraditya',\n",
       "     'language_code': 'en'},\n",
       "    'chat': {'id': 1293826547,\n",
       "     'first_name': 'Jo',\n",
       "     'username': 'jonathanraditya',\n",
       "     'type': 'private'},\n",
       "    'date': 1672666957,\n",
       "    'text': 'jonathan'}}]}"
      ]
     },
     "execution_count": 11,
     "metadata": {},
     "output_type": "execute_result"
    }
   ],
   "source": [
    "res"
   ]
  },
  {
   "cell_type": "code",
   "execution_count": null,
   "id": "4a8dd607-edc2-4a6d-b84b-601b229f59e0",
   "metadata": {},
   "outputs": [],
   "source": []
  },
  {
   "cell_type": "code",
   "execution_count": 1,
   "id": "c9cc1f2e-3d5e-4560-8338-9dfb18700e66",
   "metadata": {},
   "outputs": [],
   "source": [
    "import psutil\n",
    "import os"
   ]
  },
  {
   "cell_type": "code",
   "execution_count": 2,
   "id": "9ca34c41-1392-4c96-aa91-2e2c203b4b9a",
   "metadata": {},
   "outputs": [],
   "source": [
    "root_path = os.getcwd()\n",
    "storage = psutil.disk_usage(root_path)"
   ]
  },
  {
   "cell_type": "code",
   "execution_count": 7,
   "id": "cfe38138-7d51-4d14-8b43-e4e5ccfae06d",
   "metadata": {},
   "outputs": [
    {
     "data": {
      "text/plain": [
       "465.1477699279785"
      ]
     },
     "execution_count": 7,
     "metadata": {},
     "output_type": "execute_result"
    }
   ],
   "source": [
    "storage.total / (2**30)"
   ]
  },
  {
   "cell_type": "code",
   "execution_count": 8,
   "id": "9060612d-fa15-441f-80f0-723304ddb78b",
   "metadata": {},
   "outputs": [
    {
     "data": {
      "text/plain": [
       "170.21503829956055"
      ]
     },
     "execution_count": 8,
     "metadata": {},
     "output_type": "execute_result"
    }
   ],
   "source": [
    "storage.used / (2**30)"
   ]
  },
  {
   "cell_type": "code",
   "execution_count": 10,
   "id": "3b0a30ce-f8c4-4554-a1cd-97b9a9497079",
   "metadata": {},
   "outputs": [
    {
     "data": {
      "text/plain": [
       "294"
      ]
     },
     "execution_count": 10,
     "metadata": {},
     "output_type": "execute_result"
    }
   ],
   "source": [
    "int(storage.free / (2**30))"
   ]
  },
  {
   "cell_type": "code",
   "execution_count": null,
   "id": "173b26fa-030d-4a82-b530-4cb04cabba59",
   "metadata": {},
   "outputs": [],
   "source": []
  }
 ],
 "metadata": {
  "kernelspec": {
   "display_name": "Python 3 (ipykernel)",
   "language": "python",
   "name": "python3"
  },
  "language_info": {
   "codemirror_mode": {
    "name": "ipython",
    "version": 3
   },
   "file_extension": ".py",
   "mimetype": "text/x-python",
   "name": "python",
   "nbconvert_exporter": "python",
   "pygments_lexer": "ipython3",
   "version": "3.9.7"
  }
 },
 "nbformat": 4,
 "nbformat_minor": 5
}
