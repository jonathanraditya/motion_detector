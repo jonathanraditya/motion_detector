{
 "cells": [
  {
   "cell_type": "code",
   "execution_count": null,
   "id": "0086ad9d-4d42-43e3-884c-3632933569de",
   "metadata": {},
   "outputs": [],
   "source": []
  },
  {
   "cell_type": "code",
   "execution_count": null,
   "id": "95037619-f760-4323-8825-836d1f7ecad2",
   "metadata": {},
   "outputs": [],
   "source": [
    "# Calculate std\n",
    "# Remove value that are lower than std\n",
    "# Calculate new std\n",
    "# Calculate new mean\n",
    "# > mean + 2*std -> attention\n",
    "# > mean + 4*std -> alert\n",
    "# > mean + 8*std -> danger!"
   ]
  },
  {
   "cell_type": "code",
   "execution_count": null,
   "id": "e1bf3e87-6472-481f-bd66-6fa4eb56a43c",
   "metadata": {},
   "outputs": [],
   "source": [
    "high_value_counts_np = np.array(high_value_counts)\n",
    "higher_std = high_value_counts_np[high_value_counts_np > np.std(high_value_counts)]\n",
    "threshold = higher_std.mean() + higher_std.std()\n",
    "\n",
    "for i, (fn, val) in enumerate(zip(selected_source_list, high_value_counts)):\n",
    "    if val > threshold:\n",
    "        print(f'{i} {fn} {val}')\n",
    "        "
   ]
  },
  {
   "cell_type": "code",
   "execution_count": null,
   "id": "7f84f5f5-a95d-48bf-b2e0-1b7e60bbe535",
   "metadata": {},
   "outputs": [],
   "source": []
  },
  {
   "cell_type": "code",
   "execution_count": null,
   "id": "f2076109-ae06-4fda-ab33-9cc5c3852d35",
   "metadata": {},
   "outputs": [],
   "source": []
  }
 ],
 "metadata": {
  "kernelspec": {
   "display_name": "Python 3 (ipykernel)",
   "language": "python",
   "name": "python3"
  },
  "language_info": {
   "codemirror_mode": {
    "name": "ipython",
    "version": 3
   },
   "file_extension": ".py",
   "mimetype": "text/x-python",
   "name": "python",
   "nbconvert_exporter": "python",
   "pygments_lexer": "ipython3",
   "version": "3.9.7"
  }
 },
 "nbformat": 4,
 "nbformat_minor": 5
}
