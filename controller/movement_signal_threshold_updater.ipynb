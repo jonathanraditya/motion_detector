{
 "cells": [
  {
   "cell_type": "code",
   "execution_count": null,
   "id": "f12ef1c0-ca82-4749-aee6-a1446de6d06d",
   "metadata": {},
   "outputs": [],
   "source": [
    "import pandas as pd\n",
    "from global_modules import Sqlite\n",
    "import os\n",
    "import sys, getopt\n",
    "import time\n",
    "\n",
    "def main(argv):\n",
    "    opts, args = getopt.getopt(argv, \"hl:\")\n",
    "    for opt, arg in opts:\n",
    "        if opt == '-h':\n",
    "            print('-l <label>')\n",
    "            sys.exit()\n",
    "        elif opt in ('-l'):\n",
    "            return arg\n",
    "        else:\n",
    "            print('Please specify label parameter first')\n",
    "            sys.exit()\n",
    "            \n",
    "if __name__ == '__main__':\n",
    "    \n",
    "    label = main(sys.argv[1:])\n",
    "    # print(sys.argv[1:])\n",
    "    # print(label)\n",
    "\n",
    "    root_path = os.getcwd()\n",
    "    db_path = os.path.join(root_path, 'db')\n",
    "    movement_signal_db_path = os.path.join(db_path, 'movement_signal.db')\n",
    "    cache_path = os.path.join(root_path, 'cache')\n",
    "    movements_path = os.path.join(cache_path, 'movements')\n",
    "    thresholds_path = os.path.join(movements_path, 'thresholds')\n",
    "    thresholds_label_path = os.path.join(thresholds_path, label)\n",
    "    os.makedirs(thresholds_label_path, exist_ok=True)\n",
    "    \n",
    "    # Constants\n",
    "    capture_rate = 1.65 #seconds\n",
    "    # 24hrs * 60mins * 60secs, a day in seconds (old value)\n",
    "    # 1hr * 5mins * 60secs, a day in seconds\n",
    "    data_limit = int(1 * 5 * 60 / capture_rate) \n",
    "    \n",
    "    # Database initialization\n",
    "    sqlite = Sqlite()\n",
    "    sqlite.set_table(label)\n",
    "    sqlite.create_connection(movement_signal_db_path)\n",
    "    \n",
    "    # Processing threshold\n",
    "    try:\n",
    "        while True:\n",
    "            df = pd.read_sql(f'select * from {label} order by ROWID desc limit {data_limit}', sqlite.conn)\n",
    "            df['value'] = df['value'].astype('int')\n",
    "            threshold = df['value'].mean() + 3*df['value'].std()\n",
    "            # filtered_1std = df.loc[df['value'] > (df['value'].mean() + df['value'].std())]\n",
    "            # threshold = filtered_1std['value'].mean() + filtered_1std['value'].std()\n",
    "            timestamp = df.iloc[0]['timestamp']\n",
    "\n",
    "            # Store threshold\n",
    "            threshold_path = os.path.join(thresholds_label_path, f'{timestamp}.cache')\n",
    "            with open(threshold_path, 'w') as f:\n",
    "                f.write(str(threshold))\n",
    "\n",
    "            # Keep last 10 threshold\n",
    "            threshold_value_list = os.listdir(thresholds_label_path)\n",
    "            if len(threshold_value_list) > 10:\n",
    "\n",
    "                tvl_float = [float(i.replace('.cache','')) for i in threshold_value_list]\n",
    "                tvl_float.sort(reverse=False) # ascending, oldest value first\n",
    "\n",
    "                for fn in tvl_float[:len(tvl_float) - 10]:\n",
    "                    threshold_value_todelete = os.path.join(thresholds_label_path, f'{fn}.cache')\n",
    "                    if os.path.isfile(threshold_value_todelete):\n",
    "                        os.remove(threshold_value_todelete)\n",
    "\n",
    "            print(f\"movement_signal_threshold_updater.py -l {label} is waiting for new data...\")\n",
    "            time.sleep(10)\n",
    "    \n",
    "    except KeyboardInterrupt:\n",
    "        print(f'Stopping movement signal threshold server at {label}')\n",
    "        pass"
   ]
  },
  {
   "cell_type": "code",
   "execution_count": 77,
   "id": "4afb13e0-9453-43a5-9203-3e7facf66f1f",
   "metadata": {},
   "outputs": [],
   "source": [
    "# import pandas as pd\n",
    "# from global_modules import Sqlite\n",
    "# import os\n",
    "# import sys, getopt\n",
    "# import time\n",
    "# import numpy as np\n",
    "\n",
    "# label = 'hallway'\n",
    "\n",
    "# root_path = os.getcwd()\n",
    "# db_path = os.path.join(root_path, 'db')\n",
    "# movement_signal_db_path = os.path.join(db_path, 'movement_signal.db')\n",
    "\n",
    "# # Constants\n",
    "# capture_rate = 1.65 #seconds\n",
    "# data_limit = int(24 * 60 * 60 / capture_rate) # 24hrs * 60mins * 60secs, a day in seconds\n",
    "\n",
    "# # Database initialization\n",
    "# sqlite = Sqlite()\n",
    "# sqlite.set_table(label)\n",
    "# sqlite.create_connection(movement_signal_db_path)\n",
    "\n",
    "# df = pd.read_sql(f'select * from {label} order by ROWID desc limit {data_limit}', sqlite.conn)\n",
    "# df['value'] = df['value'].astype('int')\n",
    "# filtered_1std = df.loc[df['value'] > (df['value'].mean() + df['value'].std())]\n",
    "# threshold = filtered_1std['value'].mean() + filtered_1std['value'].std()\n",
    "# timestamp = df.iloc[0]['timestamp']"
   ]
  },
  {
   "cell_type": "code",
   "execution_count": 78,
   "id": "ad5cf6d7-ccde-47db-80cd-80b2f7834363",
   "metadata": {},
   "outputs": [],
   "source": [
    "# Q1 = np.percentile(df['value'], 25, interpolation='midpoint')\n",
    "# Q2 = np.percentile(df['value'], 50, interpolation='midpoint')\n",
    "# Q3 = np.percentile(df['value'], 75, interpolation='midpoint')"
   ]
  },
  {
   "cell_type": "code",
   "execution_count": 79,
   "id": "255ae4cb-e9ab-4c43-8dc5-6e8fcbbd632b",
   "metadata": {},
   "outputs": [
    {
     "data": {
      "text/plain": [
       "2394.475509173033"
      ]
     },
     "execution_count": 79,
     "metadata": {},
     "output_type": "execute_result"
    }
   ],
   "source": [
    "# threshold"
   ]
  },
  {
   "cell_type": "code",
   "execution_count": 80,
   "id": "fdd1d02a-f00a-4e55-a1e8-717f9635f4b0",
   "metadata": {},
   "outputs": [
    {
     "data": {
      "text/plain": [
       "174.1322184891991"
      ]
     },
     "execution_count": 80,
     "metadata": {},
     "output_type": "execute_result"
    }
   ],
   "source": [
    "# df['value'].median() + 1*df['value'].std()"
   ]
  },
  {
   "cell_type": "code",
   "execution_count": 81,
   "id": "218572d3-d7ce-46f5-ba2b-3461dcfb5c08",
   "metadata": {},
   "outputs": [
    {
     "data": {
      "text/html": [
       "<div>\n",
       "<style scoped>\n",
       "    .dataframe tbody tr th:only-of-type {\n",
       "        vertical-align: middle;\n",
       "    }\n",
       "\n",
       "    .dataframe tbody tr th {\n",
       "        vertical-align: top;\n",
       "    }\n",
       "\n",
       "    .dataframe thead th {\n",
       "        text-align: right;\n",
       "    }\n",
       "</style>\n",
       "<table border=\"1\" class=\"dataframe\">\n",
       "  <thead>\n",
       "    <tr style=\"text-align: right;\">\n",
       "      <th></th>\n",
       "      <th>timestamp</th>\n",
       "      <th>value</th>\n",
       "    </tr>\n",
       "  </thead>\n",
       "  <tbody>\n",
       "    <tr>\n",
       "      <th>1510</th>\n",
       "      <td>1671623339.0</td>\n",
       "      <td>206</td>\n",
       "    </tr>\n",
       "    <tr>\n",
       "      <th>1901</th>\n",
       "      <td>1671622777.0</td>\n",
       "      <td>304</td>\n",
       "    </tr>\n",
       "    <tr>\n",
       "      <th>1961</th>\n",
       "      <td>1671622701.0</td>\n",
       "      <td>266</td>\n",
       "    </tr>\n",
       "    <tr>\n",
       "      <th>1964</th>\n",
       "      <td>1671622698.0</td>\n",
       "      <td>419</td>\n",
       "    </tr>\n",
       "    <tr>\n",
       "      <th>2001</th>\n",
       "      <td>1671622651.0</td>\n",
       "      <td>216</td>\n",
       "    </tr>\n",
       "    <tr>\n",
       "      <th>...</th>\n",
       "      <td>...</td>\n",
       "      <td>...</td>\n",
       "    </tr>\n",
       "    <tr>\n",
       "      <th>51346</th>\n",
       "      <td>1671542688.0</td>\n",
       "      <td>306</td>\n",
       "    </tr>\n",
       "    <tr>\n",
       "      <th>51375</th>\n",
       "      <td>1671542638.0</td>\n",
       "      <td>445</td>\n",
       "    </tr>\n",
       "    <tr>\n",
       "      <th>51376</th>\n",
       "      <td>1671542636.0</td>\n",
       "      <td>2399</td>\n",
       "    </tr>\n",
       "    <tr>\n",
       "      <th>51377</th>\n",
       "      <td>1671542635.0</td>\n",
       "      <td>5559</td>\n",
       "    </tr>\n",
       "    <tr>\n",
       "      <th>51828</th>\n",
       "      <td>1671541855.0</td>\n",
       "      <td>206</td>\n",
       "    </tr>\n",
       "  </tbody>\n",
       "</table>\n",
       "<p>451 rows × 2 columns</p>\n",
       "</div>"
      ],
      "text/plain": [
       "          timestamp  value\n",
       "1510   1671623339.0    206\n",
       "1901   1671622777.0    304\n",
       "1961   1671622701.0    266\n",
       "1964   1671622698.0    419\n",
       "2001   1671622651.0    216\n",
       "...             ...    ...\n",
       "51346  1671542688.0    306\n",
       "51375  1671542638.0    445\n",
       "51376  1671542636.0   2399\n",
       "51377  1671542635.0   5559\n",
       "51828  1671541855.0    206\n",
       "\n",
       "[451 rows x 2 columns]"
      ]
     },
     "execution_count": 81,
     "metadata": {},
     "output_type": "execute_result"
    }
   ],
   "source": [
    "# filtered_1std"
   ]
  },
  {
   "cell_type": "code",
   "execution_count": null,
   "id": "60543bbd-8143-4dcf-a87d-ec73b24fa15a",
   "metadata": {},
   "outputs": [],
   "source": []
  },
  {
   "cell_type": "code",
   "execution_count": null,
   "id": "3f83eb88-43ac-442c-a4cf-eb6e3898f06b",
   "metadata": {},
   "outputs": [],
   "source": []
  },
  {
   "cell_type": "code",
   "execution_count": null,
   "id": "965ff886-a972-4c12-954a-457555ca5fb6",
   "metadata": {},
   "outputs": [],
   "source": []
  }
 ],
 "metadata": {
  "kernelspec": {
   "display_name": "Python 3 (ipykernel)",
   "language": "python",
   "name": "python3"
  },
  "language_info": {
   "codemirror_mode": {
    "name": "ipython",
    "version": 3
   },
   "file_extension": ".py",
   "mimetype": "text/x-python",
   "name": "python",
   "nbconvert_exporter": "python",
   "pygments_lexer": "ipython3",
   "version": "3.9.7"
  }
 },
 "nbformat": 4,
 "nbformat_minor": 5
}
