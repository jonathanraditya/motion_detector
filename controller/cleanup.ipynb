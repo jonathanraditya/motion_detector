{
 "cells": [
  {
   "cell_type": "code",
   "execution_count": null,
   "id": "ebd7183b-fde9-4749-bf6c-3d194a27d9f9",
   "metadata": {},
   "outputs": [],
   "source": [
    "import os\n",
    "import time\n",
    "from global_modules import GlobalOperations\n",
    "from datetime import datetime, timedelta\n",
    "go = GlobalOperations()\n",
    "\n",
    "if __name__ == '__main__':\n",
    "    print(f'{go.datetime_now()} Starting cleanup server')\n",
    "    root_path = os.getcwd()\n",
    "    cache_path = os.path.join(root_path, 'cache')\n",
    "    captured_frames_path = os.path.join(cache_path, 'captured_frames')\n",
    "    os.makedirs(captured_frames_path, exist_ok=True)\n",
    "    \n",
    "    keep_records_for = 2 # day\n",
    "    date_threshold = (datetime.now() - timedelta(hours=24)).timestamp()\n",
    "\n",
    "    while True:\n",
    "        try:\n",
    "            captured_frames_labels = os.listdir(captured_frames_path)\n",
    "            for label in captured_frames_labels:\n",
    "                captured_frames_label_path = os.path.join(captured_frames_path, label)\n",
    "                captured_frames_list = os.listdir(captured_frames_label_path)\n",
    "\n",
    "                for captured_frames_fn in captured_frames_list:\n",
    "                    if float(captured_frames_fn.replace('.jpg','')) < date_threshold:\n",
    "                        captured_frames_list_path = os.path.join(captured_frames_label_path, captured_frames_fn)\n",
    "                        os.remove(captured_frames_list_path)\n",
    "\n",
    "            print(f'{go.datetime_now()} Cleanup finished.')\n",
    "            time.sleep(60*60) # 1 hour\n",
    "\n",
    "        except KeyboardInterrupt:\n",
    "            print(f'{go.datetime_now()} Cleanup server stopped.')\n",
    "            pass"
   ]
  },
  {
   "cell_type": "code",
   "execution_count": null,
   "id": "b61caf86-6c08-49cd-ba78-a710e242febe",
   "metadata": {},
   "outputs": [],
   "source": []
  },
  {
   "cell_type": "code",
   "execution_count": null,
   "id": "af16a499-4da8-4169-aae5-5f271cd0ddb7",
   "metadata": {},
   "outputs": [],
   "source": []
  }
 ],
 "metadata": {
  "kernelspec": {
   "display_name": "Python 3 (ipykernel)",
   "language": "python",
   "name": "python3"
  },
  "language_info": {
   "codemirror_mode": {
    "name": "ipython",
    "version": 3
   },
   "file_extension": ".py",
   "mimetype": "text/x-python",
   "name": "python",
   "nbconvert_exporter": "python",
   "pygments_lexer": "ipython3",
   "version": "3.9.7"
  }
 },
 "nbformat": 4,
 "nbformat_minor": 5
}
