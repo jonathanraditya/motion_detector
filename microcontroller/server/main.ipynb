{
 "cells": [
  {
   "cell_type": "code",
   "execution_count": 76,
   "id": "62f94c6a-a4ac-42f0-8be0-04cdce68f2cf",
   "metadata": {},
   "outputs": [],
   "source": [
    "from http.server import BaseHTTPRequestHandler, HTTPServer\n",
    "from urllib.parse import urlparse, parse_qs\n",
    "import sqlite3\n",
    "import os\n",
    "from datetime import datetime\n",
    "import pytz\n",
    "import hashlib\n",
    "import random"
   ]
  },
  {
   "cell_type": "markdown",
   "id": "932f7e7f-3f23-4849-9dc3-f333cff4e150",
   "metadata": {},
   "source": [
    "Class tree:\n",
    "-- GlobalOperations\n",
    "--- Sqlite\n",
    "---- Vibrateserver"
   ]
  },
  {
   "cell_type": "code",
   "execution_count": 145,
   "id": "9fb2f6d2-12f2-4d14-b0bd-eee77d0a5083",
   "metadata": {},
   "outputs": [],
   "source": [
    "class GlobalOperations:\n",
    "    def __init__(self):\n",
    "        self.tz = pytz.timezone('Asia/Jakarta')\n",
    "    \n",
    "    def datetime_now(self):\n",
    "        return datetime.now(self.tz)\n",
    "    \n",
    "    def gethash(self, string):\n",
    "        '''sha256'''\n",
    "        # sanity check\n",
    "        if not isinstance(string, str):\n",
    "            string = str(string)            \n",
    "        return hashlib.sha256(bytes(string, 'utf-8')).hexdigest()\n",
    "\n",
    "class Sqlite(GlobalOperations):\n",
    "    def __init__(self):\n",
    "        self.conn = None\n",
    "        self.table = None\n",
    "        \n",
    "    def set_table(self, table):\n",
    "        self.table = table\n",
    "        \n",
    "    def create_connection(self, db_path):\n",
    "        try:\n",
    "            self.conn = sqlite3.connect(db_path)\n",
    "        except Error as e:\n",
    "            print(f'Failed to create connection. {e}')\n",
    "    \n",
    "    def insert_value(self, cols, values):\n",
    "        # Sanity check\n",
    "        if self.conn != None & self.table != None:\n",
    "            if not all(isinstance(i, list) for i in [cols, values]):\n",
    "                cols_insert = ','.join(cols)\n",
    "                data_placeholder = ['?' for _ in cols]\n",
    "                data_placeholder_insert = ','.join(data_placeholder)\n",
    "                values_insert = f'{self.datetime_now().timestamp()}' + ','.join(values)\n",
    "                sql = f'''insert into {self.table} (datetime, {cols_insert}) values ('?',{data_placeholder_insert})'''\n",
    "                cur = self.conn.cursor()\n",
    "                cur.execute(sql, values_insert)\n",
    "                self.conn.commit()\n",
    "            else:\n",
    "                print('Makesure that colnames is in python list format `[...,...,...]`')\n",
    "        else:\n",
    "            print('Please initialize connection and table name first.')\n",
    "    \n",
    "    \n",
    "class Vibrateserver(Sqlite, BaseHTTPRequestHandler):\n",
    "    def __init__(self):\n",
    "        self.root_dir = os.getcwd()\n",
    "        self.db = 'records.db'\n",
    "        \n",
    "        self.db_path = os.path.join(self.root_dir, self.db)\n",
    "\n",
    "        self.in_sw = {\n",
    "            'two_corner':['front_facing','side_facing','room_entry'],\n",
    "            'two_entry':['left_sensor','right_sensor'],\n",
    "            'one_perimeter':['carport_perimeter','large_gate','small_gate','garden_fence','garden_outer_perimeter'],\n",
    "            'one_main':['parlor_window','main_door_upper','main_door_lower'],\n",
    "            'one_hallway':['hallway_door','hallway_window','kitchen_lamp_switch','outdoor_lamp_switch','parlor_lamp_switch']\n",
    "        }\n",
    "        self.out_gb = 0\n",
    "        self.out_sw = {\n",
    "            'one_hallway':{\n",
    "                'kitchen_lamp_switch':0,\n",
    "                'outdoor_lamp_switch':0,\n",
    "                'parlor_lamp_switch':0\n",
    "            }\n",
    "        }\n",
    "        random.seed(1209218402348023984239874891)\n",
    "        self.key = self.gethash(random.random())\n",
    "        self.key = self.gethash(self.key)\n",
    "        \n",
    "        self.host = '0.0.0.0'\n",
    "        self.port = 5000\n",
    "        \n",
    "    def do_GET(self):\n",
    "        try:\n",
    "            qs = parse_qs(urlparse(self.path).query)\n",
    "            print(qs)\n",
    "            path = urlparse(self.path).path\n",
    "            hwid = qs['hwid'][0]\n",
    "\n",
    "            if qs['key'][0] == self.key:\n",
    "                print('key correct')\n",
    "                print(self.path)\n",
    "                # Input handler\n",
    "                if path == f'/input':\n",
    "                    print('go to input handler')\n",
    "                    if hwid in self.in_sw.keys():\n",
    "                        payload_split = qs['payload'].split('z')\n",
    "                        if len(payload_split) == len(self.in_sw[hwid]):\n",
    "                            self.set_table(hwid)\n",
    "                            self.insert_value(self.in_sw[hwid], payload_split)\n",
    "                        else:\n",
    "                            self.send_error(500, 'Access denied')\n",
    "                    else:\n",
    "                        self.send_error(500, 'Access denied')\n",
    "\n",
    "                # Output handler\n",
    "                elif path == f'/output':\n",
    "                    print('output handler')\n",
    "                    print(hwid)\n",
    "                    print(self.out_sw.keys())\n",
    "                    if hwid in self.out_sw.keys():\n",
    "                        print('output handler corret hwid')\n",
    "                        self.send_response(200)\n",
    "                        self.send_header('Content-type', 'text/html')\n",
    "                        self.end_headers()\n",
    "                        self.wfile.write(bytes('0,0,1', 'utf-8'))\n",
    "                    else:\n",
    "                        self.send_error(500, 'Access denied')\n",
    "            else:\n",
    "                print('full error')\n",
    "                self.send_error(500, 'Access denied')\n",
    "           \n",
    "        except:\n",
    "            print('exception')\n",
    "            self.send_error(500, 'Access denied')"
   ]
  },
  {
   "cell_type": "code",
   "execution_count": 153,
   "id": "2c5440ed-aa43-4e66-9201-f7c1917deb7a",
   "metadata": {},
   "outputs": [
    {
     "data": {
      "text/plain": [
       "'431f8a00bb579d4691b19efe332e21d8b61ff25e8a1698d81bf95a756660f3ee'"
      ]
     },
     "execution_count": 153,
     "metadata": {},
     "output_type": "execute_result"
    }
   ],
   "source": [
    "vs = Vibrateserver()\n",
    "vs.key"
   ]
  },
  {
   "cell_type": "code",
   "execution_count": 154,
   "id": "109ed836-4952-4a5b-9546-edd4685c6430",
   "metadata": {},
   "outputs": [],
   "source": [
    "vs.create_connection(vs.db_path)"
   ]
  },
  {
   "cell_type": "code",
   "execution_count": 155,
   "id": "f3fafaa3-82a7-47cc-a0fe-174e5df9ac83",
   "metadata": {},
   "outputs": [
    {
     "data": {
      "text/plain": [
       "sqlite3.Connection"
      ]
     },
     "execution_count": 155,
     "metadata": {},
     "output_type": "execute_result"
    }
   ],
   "source": [
    "type(vs.conn)"
   ]
  },
  {
   "cell_type": "code",
   "execution_count": 156,
   "id": "4a376786-3e4f-4606-803e-412d1c569245",
   "metadata": {},
   "outputs": [
    {
     "data": {
      "text/plain": [
       "True"
      ]
     },
     "execution_count": 156,
     "metadata": {},
     "output_type": "execute_result"
    }
   ],
   "source": [
    "isinstance(vs.conn, sqlite3.Connection)"
   ]
  },
  {
   "cell_type": "code",
   "execution_count": 94,
   "id": "416ffab7-5693-4aa9-984e-e7cad8980453",
   "metadata": {},
   "outputs": [
    {
     "name": "stdout",
     "output_type": "stream",
     "text": [
      "Server started http://0.0.0.0:5000\n"
     ]
    }
   ],
   "source": [
    "webServer = HTTPServer((vs.host, vs.port), vs)\n",
    "print(f'Server started http://{vs.host}:{vs.port}')"
   ]
  },
  {
   "cell_type": "code",
   "execution_count": 138,
   "id": "d3a80760-d6fa-4a45-822a-8aad74ae519b",
   "metadata": {},
   "outputs": [
    {
     "data": {
      "text/plain": [
       "'0.0.0.0'"
      ]
     },
     "execution_count": 138,
     "metadata": {},
     "output_type": "execute_result"
    }
   ],
   "source": [
    "vs.host"
   ]
  },
  {
   "cell_type": "code",
   "execution_count": null,
   "id": "a4ee8491-137b-42c5-8039-39ed4dd1de81",
   "metadata": {},
   "outputs": [],
   "source": [
    "try:\n",
    "    webServer.serve_forever()\n",
    "except KeyboardInterrupt:\n",
    "    pass"
   ]
  },
  {
   "cell_type": "code",
   "execution_count": 149,
   "id": "7f9de62e-e949-44fd-8b83-ebb396fbdc23",
   "metadata": {},
   "outputs": [],
   "source": [
    "vs.path = 'http://localhost:5000/output?key=431f8a00bb579d4691b19efe332e21d8b61ff25e8a1698d81bf95a756660f3ee&hwid=one_hallway'"
   ]
  },
  {
   "cell_type": "code",
   "execution_count": 150,
   "id": "1f2d0a2f-c7a4-497c-94ef-1c4144fe631e",
   "metadata": {},
   "outputs": [
    {
     "name": "stdout",
     "output_type": "stream",
     "text": [
      "{'key': ['431f8a00bb579d4691b19efe332e21d8b61ff25e8a1698d81bf95a756660f3ee'], 'hwid': ['one_hallway']}\n",
      "key correct\n",
      "http://localhost:5000/output?key=431f8a00bb579d4691b19efe332e21d8b61ff25e8a1698d81bf95a756660f3ee&hwid=one_hallway\n",
      "output handler\n",
      "one_hallway\n",
      "dict_keys(['one_hallway'])\n",
      "output handler corret hwid\n"
     ]
    }
   ],
   "source": [
    "vs.do_GET()"
   ]
  },
  {
   "cell_type": "code",
   "execution_count": 130,
   "id": "622ec895-97f2-41fb-92e5-987e4f076f1d",
   "metadata": {},
   "outputs": [
    {
     "data": {
      "text/plain": [
       "'/output'"
      ]
     },
     "execution_count": 130,
     "metadata": {},
     "output_type": "execute_result"
    }
   ],
   "source": [
    "urlparse(vs.path).path"
   ]
  },
  {
   "cell_type": "code",
   "execution_count": null,
   "id": "834d5ab8-1c8d-4b01-aaf5-7b2be9b186b9",
   "metadata": {},
   "outputs": [],
   "source": []
  },
  {
   "cell_type": "code",
   "execution_count": 73,
   "id": "feb65216-3718-4aa0-a56f-3198122c1964",
   "metadata": {},
   "outputs": [],
   "source": [
    "from urllib.parse import urlparse, parse_qs\n",
    "url = 'localhost:8080/input?key=431f8a00bb579d4691b19efe332e21d8b61ff25e8a1698d81bf95a756660f3ee&hwid=two_corner&payload=423z982z912'\n",
    "qs = parse_qs(urlparse(url).query)\n",
    "path = urlparse(url).path"
   ]
  },
  {
   "cell_type": "code",
   "execution_count": 151,
   "id": "28e702ba-8575-4c3d-8f36-358c411c9d91",
   "metadata": {},
   "outputs": [
    {
     "data": {
      "text/plain": [
       "True"
      ]
     },
     "execution_count": 151,
     "metadata": {},
     "output_type": "execute_result"
    }
   ],
   "source": [
    "\n",
    "qs['hwid'][0] in ag.in_sw.keys()"
   ]
  },
  {
   "cell_type": "code",
   "execution_count": 80,
   "id": "3f17dc9a-c79f-40fc-ab16-da752f65797d",
   "metadata": {},
   "outputs": [
    {
     "data": {
      "text/plain": [
       "dict_keys(['two_corner', 'two_entry', 'one_perimeter', 'one_main', 'one_hallway'])"
      ]
     },
     "execution_count": 80,
     "metadata": {},
     "output_type": "execute_result"
    }
   ],
   "source": [
    "ag.in_sw.keys()"
   ]
  },
  {
   "cell_type": "code",
   "execution_count": 152,
   "id": "b5106787-c5b8-4fda-9847-c661750153b4",
   "metadata": {},
   "outputs": [
    {
     "data": {
      "text/plain": [
       "{'key': ['431f8a00bb579d4691b19efe332e21d8b61ff25e8a1698d81bf95a756660f3ee'],\n",
       " 'hwid': ['two_corner'],\n",
       " 'payload': ['423z982z912']}"
      ]
     },
     "execution_count": 152,
     "metadata": {},
     "output_type": "execute_result"
    }
   ],
   "source": [
    "'hwid' in"
   ]
  },
  {
   "cell_type": "code",
   "execution_count": null,
   "id": "db646c9f-e8ec-48fd-b295-64e14e2368eb",
   "metadata": {},
   "outputs": [],
   "source": []
  },
  {
   "cell_type": "code",
   "execution_count": null,
   "id": "3a4d18b4-34cc-4b06-9161-cc4a5aa7cb86",
   "metadata": {},
   "outputs": [],
   "source": []
  },
  {
   "cell_type": "code",
   "execution_count": null,
   "id": "e8239ee4-cada-4e56-9ffb-b9dec62906b4",
   "metadata": {},
   "outputs": [],
   "source": []
  },
  {
   "cell_type": "markdown",
   "id": "4e5ba163-4f7f-4eba-9612-caf34c082c45",
   "metadata": {},
   "source": [
    "localhost:8080/input?key=431f8a00bb579d4691b19efe332e21d8b61ff25e8a1698d81bf95a756660f3ee&hwid=two_corner&payload=423z982z912"
   ]
  },
  {
   "cell_type": "code",
   "execution_count": 85,
   "id": "3c8dfd8a-95a9-43b0-bcec-978e68341c8b",
   "metadata": {},
   "outputs": [
    {
     "data": {
      "text/plain": [
       "3"
      ]
     },
     "execution_count": 85,
     "metadata": {},
     "output_type": "execute_result"
    }
   ],
   "source": [
    "f = [0,0,0]\n",
    "len(f)"
   ]
  },
  {
   "cell_type": "code",
   "execution_count": null,
   "id": "4d9b23c6-1c30-46c9-b75f-86f801bc929a",
   "metadata": {},
   "outputs": [],
   "source": [
    "http://192.168.0.5:5000/input?key=431f8a00bb579d4691b19efe332e21d8b61ff25e8a1698d81bf95a756660f3ee&hwid=two_corner&payload=423z982z912\n",
    "\n",
    "http://192.168.0.5:5000/input?key=431f8a00bb579d4691b19efe332e21d8b61ff25e8a1698d81bf95a756660f3ee&hwid=two_entry&payload=423z982\n",
    "\n",
    "one_perimeter\n",
    "http://192.168.0.5:5000/input?key=431f8a00bb579d4691b19efe332e21d8b61ff25e8a1698d81bf95a756660f3ee&hwid=one_perimeter&payload=423z982z998z45z456"
   ]
  },
  {
   "cell_type": "code",
   "execution_count": null,
   "id": "421c9914-1f06-4128-b7f0-514034e10759",
   "metadata": {},
   "outputs": [],
   "source": [
    "http://192.168.0.5:5000/output?key=431f8a00bb579d4691b19efe332e21d8b61ff25e8a1698d81bf95a756660f3ee&hwid=one_hallway"
   ]
  },
  {
   "cell_type": "code",
   "execution_count": null,
   "id": "1f759898-75c5-423d-be1e-b1cd9bc9c4c3",
   "metadata": {},
   "outputs": [],
   "source": []
  },
  {
   "cell_type": "code",
   "execution_count": 157,
   "id": "baf26ab5-6040-4cd7-ae2a-d3f092cbebfc",
   "metadata": {},
   "outputs": [],
   "source": [
    "a = ['front_facing', 'side_facing', 'room_entry']\n",
    "b = ['423', '982', '912']"
   ]
  },
  {
   "cell_type": "code",
   "execution_count": 159,
   "id": "51b1f39b-6c0a-4c7c-b27b-5d69113f73fa",
   "metadata": {},
   "outputs": [
    {
     "data": {
      "text/plain": [
       "True"
      ]
     },
     "execution_count": 159,
     "metadata": {},
     "output_type": "execute_result"
    }
   ],
   "source": [
    "all(isinstance(i, list) for i in [a, b])"
   ]
  },
  {
   "cell_type": "code",
   "execution_count": 160,
   "id": "89d0faaa-b4fe-495f-a7bf-82c63ee74d3a",
   "metadata": {},
   "outputs": [
    {
     "name": "stdout",
     "output_type": "stream",
     "text": [
      "a float\n",
      "b int\n",
      "c int\n",
      "d int\n"
     ]
    }
   ],
   "source": [
    "a = ['a', 'b', 'c', 'd']\n",
    "b = ['float', 'int', 'int', 'int']\n",
    "for x, y in zip(a, b):\n",
    "    print(x, y)"
   ]
  },
  {
   "cell_type": "code",
   "execution_count": null,
   "id": "60a49ffe-17ea-4099-a84c-7a9ee7375830",
   "metadata": {},
   "outputs": [],
   "source": []
  },
  {
   "cell_type": "code",
   "execution_count": 161,
   "id": "515a1e0f-96e7-4128-8174-09ddd346e40f",
   "metadata": {},
   "outputs": [],
   "source": [
    "a = {\n",
    "            'two_corner':{\n",
    "                'reset_trigger':0,\n",
    "            },\n",
    "            'two_entry':{\n",
    "                'reset_trigger':0,\n",
    "            },\n",
    "            'one_perimeter':{\n",
    "                'reset_trigger':0,\n",
    "            },\n",
    "            'one_main':{\n",
    "                'reset_trigger':0,\n",
    "            },\n",
    "            'one_hallway':{\n",
    "                'kitchen_lamp_switch':0,\n",
    "                'outdoor_lamp_switch':0,\n",
    "                'parlor_lamp_switch':0,\n",
    "                'reset_trigger':0\n",
    "            }\n",
    "        }"
   ]
  },
  {
   "cell_type": "code",
   "execution_count": 172,
   "id": "4a9f31ef-88f6-4807-83ac-7452d5638253",
   "metadata": {},
   "outputs": [
    {
     "data": {
      "text/plain": [
       "'0,0,0,0'"
      ]
     },
     "execution_count": 172,
     "metadata": {},
     "output_type": "execute_result"
    }
   ],
   "source": [
    "','.join([str(v) for v in a['one_hallway'].values()])"
   ]
  },
  {
   "cell_type": "code",
   "execution_count": 170,
   "id": "f131cd63-579c-410a-a242-86bdd8edb08a",
   "metadata": {},
   "outputs": [
    {
     "ename": "TypeError",
     "evalue": "sequence item 0: expected str instance, int found",
     "output_type": "error",
     "traceback": [
      "\u001b[1;31m---------------------------------------------------------------------------\u001b[0m",
      "\u001b[1;31mTypeError\u001b[0m                                 Traceback (most recent call last)",
      "\u001b[1;32m~\\AppData\\Local\\Temp/ipykernel_19560/584322993.py\u001b[0m in \u001b[0;36m<module>\u001b[1;34m\u001b[0m\n\u001b[1;32m----> 1\u001b[1;33m \u001b[1;34m','\u001b[0m\u001b[1;33m.\u001b[0m\u001b[0mjoin\u001b[0m\u001b[1;33m(\u001b[0m\u001b[0ma\u001b[0m\u001b[1;33m[\u001b[0m\u001b[1;34m'one_hallway'\u001b[0m\u001b[1;33m]\u001b[0m\u001b[1;33m.\u001b[0m\u001b[0mvalues\u001b[0m\u001b[1;33m(\u001b[0m\u001b[1;33m)\u001b[0m\u001b[1;33m)\u001b[0m\u001b[1;33m\u001b[0m\u001b[1;33m\u001b[0m\u001b[0m\n\u001b[0m",
      "\u001b[1;31mTypeError\u001b[0m: sequence item 0: expected str instance, int found"
     ]
    }
   ],
   "source": [
    "','.join(a['one_hallway'].values())"
   ]
  },
  {
   "cell_type": "code",
   "execution_count": null,
   "id": "95469056-50b4-4d59-a57c-31d7ee82d07e",
   "metadata": {},
   "outputs": [],
   "source": []
  }
 ],
 "metadata": {
  "kernelspec": {
   "display_name": "Python 3 (ipykernel)",
   "language": "python",
   "name": "python3"
  },
  "language_info": {
   "codemirror_mode": {
    "name": "ipython",
    "version": 3
   },
   "file_extension": ".py",
   "mimetype": "text/x-python",
   "name": "python",
   "nbconvert_exporter": "python",
   "pygments_lexer": "ipython3",
   "version": "3.11.6"
  }
 },
 "nbformat": 4,
 "nbformat_minor": 5
}
