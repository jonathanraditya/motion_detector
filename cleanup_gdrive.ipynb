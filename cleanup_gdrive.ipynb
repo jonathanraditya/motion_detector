{
 "cells": [
  {
   "cell_type": "code",
   "execution_count": null,
   "id": "160740fa-1de6-4a35-acc6-6dcb15ecc22f",
   "metadata": {},
   "outputs": [],
   "source": [
    "import shutil\n",
    "import os\n",
    "import time\n",
    "from global_modules import GlobalOperations\n",
    "from datetime import datetime, timedelta\n",
    "go = GlobalOperations()\n",
    "\n",
    "if __name__ == '__main__':\n",
    "    print(f'{go.datetime_now()} Starting Google Drive cleanup server')\n",
    "    # root_path = os.getcwd()\n",
    "    # cache_path = os.path.join(root_path, 'cache')\n",
    "    # captured_frames_path = os.path.join(cache_path, 'captured_frames')\n",
    "    # os.makedirs(captured_frames_path, exist_ok=True)\n",
    "\n",
    "    # source_path = go.config['CCTV_PROOF_PATH'] # G:\\My Drive\\cctv_proof\n",
    "    source_path = 'G:\\\\My Drive\\\\cctv_proof'\n",
    "    os.makedirs(source_path, exist_ok=True)\n",
    "\n",
    "    # target_path = go.config['CCTV_LONG_STORAGE_PATH'] # D:\\cctv_proof\n",
    "    target_path = 'D:\\\\cctv_proof'\n",
    "    os.makedirs(target_path, exist_ok=True)\n",
    "    \n",
    "    keep_records_for = 120 # day(s)\n",
    "\n",
    "    try:\n",
    "        while True:\n",
    "            cleanup_counter = 0\n",
    "            # beginning_storage = go.free_storage(root_path)\n",
    "            date_threshold = (datetime.now() - timedelta(hours=keep_records_for * 24)).timestamp()\n",
    "            # captured_frames_label = os.listdir(captured_frames_path)\n",
    "            source_files = os.listdir(source_path)\n",
    "\n",
    "            for source_file in source_files:\n",
    "                if float(source_file[:10]) < date_threshold:\n",
    "                    source_file_path = os.path.join(source_path, source_file)\n",
    "                    target_file_path = os.path.join(target_path, source_file)\n",
    "\n",
    "                    try:\n",
    "                        shutil.copy(source_file_path, target_file_path)\n",
    "                        os.remove(source_file_path)\n",
    "                        print(f'{go.datetime_now()} Copying: {target_file_path}')\n",
    "                    except FileNotFoundError:\n",
    "                        print(f'{go.datetime_now()} Failed file not found: {target_file_path}')\n",
    "\n",
    "                cleanup_counter += 1\n",
    "            print(f'{go.datetime_now()} Google Drive cleanup finished. {cleanup_counter} records cleaned.')\n",
    "\n",
    "            for _ in range(60*60):\n",
    "                # 1 hour\n",
    "                time.sleep(1)\n",
    "\n",
    "    except KeyboardInterrupt:\n",
    "        print(f'{go.datetime_now()} Google Drive cleanup server stopped.')\n",
    "        pass\n",
    "\n",
    "            \n",
    "                    \n",
    "                    \n",
    "            \n",
    "    #         for label in captured_frames_label:\n",
    "    #             captured_frames_label_path = os.path.join(captured_frames_path, label)\n",
    "    #             captured_frames_list = os.listdir(captured_frames_label_path)\n",
    "\n",
    "    #             for captured_frames_fn in captured_frames_list:\n",
    "    #                 if float(captured_frames_fn.replace('.jpg','')) < date_threshold:\n",
    "    #                     captured_frames_list_path = os.path.join(captured_frames_label_path, captured_frames_fn)\n",
    "    #                     os.remove(captured_frames_list_path)\n",
    "    #                     cleanup_counter += 1\n",
    "\n",
    "    #         ending_storage = go.free_storage(root_path)\n",
    "    #         print(f'{go.datetime_now()} Cleanup finished. {cleanup_counter} records cleaned.')\n",
    "    #         for _ in range(60*60):\n",
    "    #             # 1 hour\n",
    "    #             time.sleep(1) \n",
    "\n",
    "    # except KeyboardInterrupt:\n",
    "    #     print(f'{go.datetime_now()} Cleanup server stopped.')\n",
    "    #     pass"
   ]
  },
  {
   "cell_type": "code",
   "execution_count": 2,
   "id": "5adfb46b-94e8-4d44-a687-ad589361a911",
   "metadata": {},
   "outputs": [],
   "source": [
    "# import os\n",
    "# import time\n",
    "# from global_modules import GlobalOperations\n",
    "# from datetime import datetime, timedelta\n",
    "# go = GlobalOperations()"
   ]
  },
  {
   "cell_type": "code",
   "execution_count": 1,
   "id": "7f59b5fc-2a8f-4626-bef5-ecb1f538fe42",
   "metadata": {},
   "outputs": [
    {
     "data": {
      "text/plain": [
       "'1689831016'"
      ]
     },
     "execution_count": 1,
     "metadata": {},
     "output_type": "execute_result"
    }
   ],
   "source": [
    "# a = '1689831016.0.jpg_garden_6b20804c7e7a6dd2766b36fbb7e8567ae9ff20ba8e9141c2806f897f524b65c8.jpg'\n",
    "# a[:10]"
   ]
  },
  {
   "cell_type": "code",
   "execution_count": 3,
   "id": "7b061d64-79b7-4c47-b871-b8e2e8b7b47e",
   "metadata": {},
   "outputs": [],
   "source": [
    "# keep_records_for = 2 # hours\n",
    "# dt = (datetime.now() - timedelta(hours=keep_records_for * 24)).timestamp()"
   ]
  },
  {
   "cell_type": "code",
   "execution_count": 4,
   "id": "f96fb3c0-da24-40f8-a45a-4d5cb4210242",
   "metadata": {},
   "outputs": [
    {
     "data": {
      "text/plain": [
       "1701875346.253515"
      ]
     },
     "execution_count": 4,
     "metadata": {},
     "output_type": "execute_result"
    }
   ],
   "source": [
    "# dt"
   ]
  },
  {
   "cell_type": "code",
   "execution_count": null,
   "id": "93b74919-71ff-4adf-9c42-077913576ae2",
   "metadata": {},
   "outputs": [],
   "source": []
  }
 ],
 "metadata": {
  "kernelspec": {
   "display_name": "Python 3 (ipykernel)",
   "language": "python",
   "name": "python3"
  },
  "language_info": {
   "codemirror_mode": {
    "name": "ipython",
    "version": 3
   },
   "file_extension": ".py",
   "mimetype": "text/x-python",
   "name": "python",
   "nbconvert_exporter": "python",
   "pygments_lexer": "ipython3",
   "version": "3.11.6"
  }
 },
 "nbformat": 4,
 "nbformat_minor": 5
}
