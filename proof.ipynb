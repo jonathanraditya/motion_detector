{
 "cells": [
  {
   "cell_type": "code",
   "execution_count": null,
   "id": "c781e6a0-183b-4c14-afef-d5fc7e8c3292",
   "metadata": {},
   "outputs": [],
   "source": [
    "import os\n",
    "import shutil\n",
    "import time\n",
    "from global_modules import GlobalOperations\n",
    "go = GlobalOperations()\n",
    "\n",
    "if __name__ == '__main__':\n",
    "    print(f'{go.datetime_now()} Starting proof storing server')\n",
    "    root_path = os.getcwd()\n",
    "    cache_path = os.path.join(root_path, 'cache')\n",
    "    proof_path = os.path.join(cache_path, 'proof')\n",
    "    os.makedirs(proof_path, exist_ok=True)\n",
    "    proof_list = os.listdir(proof_path)\n",
    "\n",
    "    captured_frames_path = os.path.join(cache_path, 'captured_frames')\n",
    "\n",
    "    cctv_proof_path = 'G:\\\\My Drive\\\\cctv_proof'\n",
    "    os.makedirs(cctv_proof_path, exist_ok=True)\n",
    "\n",
    "    try:\n",
    "        while True:\n",
    "            for proof_label in proof_list:\n",
    "                proof_label_path = os.path.join(proof_path, proof_label)\n",
    "                proof_label_list = os.listdir(proof_label_path)\n",
    "                for proof_fn in proof_label_list:\n",
    "                    proof_label_list_path = os.path.join(proof_label_path, proof_fn)\n",
    "                    with open(proof_label_list_path, 'r') as f:\n",
    "                        sha256 = f.read()\n",
    "\n",
    "                    captured_frames_label_path = os.path.join(captured_frames_path, proof_label)\n",
    "                    captured_frames_img_path = os.path.join(captured_frames_label_path, proof_fn.replace('.cache','.jpg'))\n",
    "\n",
    "                    cctv_proof_img_fn = proof_fn.replace('.cache','.jpg') + f'_{proof_label}_{sha256}.jpg'\n",
    "                    cctv_proof_img_path = os.path.join(cctv_proof_path, cctv_proof_img_fn)\n",
    "\n",
    "                    try:\n",
    "                        shutil.copy(captured_frames_img_path, cctv_proof_img_path)\n",
    "                        print(f'{go.datetime_now()} Copying: {cctv_proof_img_path}')\n",
    "                    except FileNotFoundError:\n",
    "                        print(f'{go.datetime_now()} Failed file not found: {cctv_proof_img_path}')\n",
    "\n",
    "                    # Remove proof queue\n",
    "                    os.remove(proof_label_list_path)\n",
    "            time.sleep(1)\n",
    "            \n",
    "            \n",
    "    except KeyboardInterrupt:\n",
    "        print(f'{go.datetime_now()} Stopping proof storing server')\n",
    "        pass\n",
    "        \n",
    "        \n",
    "        "
   ]
  },
  {
   "cell_type": "code",
   "execution_count": 2,
   "id": "9f5eed74-ec03-4329-bb77-9d7e8627178c",
   "metadata": {},
   "outputs": [],
   "source": [
    "# import os\n",
    "# import shutil\n",
    "# from global_modules import Sqlite_v2\n",
    "# import pandas as pd"
   ]
  },
  {
   "cell_type": "code",
   "execution_count": 13,
   "id": "8d49bbfa-055b-4a48-a3a9-222ad57487f4",
   "metadata": {
    "collapsed": true,
    "jupyter": {
     "outputs_hidden": true
    },
    "tags": []
   },
   "outputs": [
    {
     "ename": "IndexError",
     "evalue": "index 0 is out of bounds for axis 0 with size 0",
     "output_type": "error",
     "traceback": [
      "\u001b[1;31m---------------------------------------------------------------------------\u001b[0m",
      "\u001b[1;31mIndexError\u001b[0m                                Traceback (most recent call last)",
      "\u001b[1;32m~\\AppData\\Local\\Temp/ipykernel_26128/909979300.py\u001b[0m in \u001b[0;36m<module>\u001b[1;34m\u001b[0m\n\u001b[0;32m     24\u001b[0m     \u001b[0mlabel\u001b[0m \u001b[1;33m=\u001b[0m \u001b[0mdf\u001b[0m\u001b[1;33m.\u001b[0m\u001b[0mloc\u001b[0m\u001b[1;33m[\u001b[0m\u001b[0mdf\u001b[0m\u001b[1;33m[\u001b[0m\u001b[1;34m'sha256'\u001b[0m\u001b[1;33m]\u001b[0m \u001b[1;33m==\u001b[0m \u001b[0msha256\u001b[0m\u001b[1;33m]\u001b[0m\u001b[1;33m[\u001b[0m\u001b[1;34m'triggered_by'\u001b[0m\u001b[1;33m]\u001b[0m\u001b[1;33m\u001b[0m\u001b[1;33m\u001b[0m\u001b[0m\n\u001b[0;32m     25\u001b[0m \u001b[1;33m\u001b[0m\u001b[0m\n\u001b[1;32m---> 26\u001b[1;33m     \u001b[0mproof_dest_label_path\u001b[0m \u001b[1;33m=\u001b[0m \u001b[0mos\u001b[0m\u001b[1;33m.\u001b[0m\u001b[0mpath\u001b[0m\u001b[1;33m.\u001b[0m\u001b[0mjoin\u001b[0m\u001b[1;33m(\u001b[0m\u001b[0mproof_or_path\u001b[0m\u001b[1;33m,\u001b[0m \u001b[0mlabel\u001b[0m\u001b[1;33m.\u001b[0m\u001b[0mvalues\u001b[0m\u001b[1;33m[\u001b[0m\u001b[1;36m0\u001b[0m\u001b[1;33m]\u001b[0m\u001b[1;33m)\u001b[0m\u001b[1;33m\u001b[0m\u001b[1;33m\u001b[0m\u001b[0m\n\u001b[0m\u001b[0;32m     27\u001b[0m     \u001b[0mproof_dest_path\u001b[0m \u001b[1;33m=\u001b[0m \u001b[0mos\u001b[0m\u001b[1;33m.\u001b[0m\u001b[0mpath\u001b[0m\u001b[1;33m.\u001b[0m\u001b[0mjoin\u001b[0m\u001b[1;33m(\u001b[0m\u001b[0mproof_dest_label_path\u001b[0m\u001b[1;33m,\u001b[0m \u001b[0mproof_fn\u001b[0m\u001b[1;33m)\u001b[0m\u001b[1;33m\u001b[0m\u001b[1;33m\u001b[0m\u001b[0m\n\u001b[0;32m     28\u001b[0m \u001b[1;33m\u001b[0m\u001b[0m\n",
      "\u001b[1;31mIndexError\u001b[0m: index 0 is out of bounds for axis 0 with size 0"
     ]
    }
   ],
   "source": [
    "\n",
    "# root_path = os.getcwd()\n",
    "# cache_path = os.path.join(root_path, 'cache')\n",
    "# proof_cp_path = os.path.join(cache_path, 'proof - Copy')\n",
    "# proof_or_path = os.path.join(cache_path, 'proof')\n",
    "# os.makedirs(proof_cp_path, exist_ok=True)\n",
    "# proof_list = os.listdir(proof_cp_path)\n",
    "\n",
    "# captured_frames_path = os.path.join(cache_path, 'captured_frames')\n",
    "\n",
    "# cctv_proof_path = 'G:\\\\My Drive\\\\cctv_proof'\n",
    "# os.makedirs(cctv_proof_path, exist_ok=True)\n",
    "\n",
    "# sqlite = Sqlite_v2()\n",
    "# sqlite.set_table('notifications')\n",
    "# sqlite.create_connection('./db/notifications.db')\n",
    "\n",
    "# df = pd.read_sql(f'select * from notifications', sqlite.conn)\n",
    "\n",
    "# for proof_fn in proof_list:\n",
    "#     proof_list_path = os.path.join(proof_cp_path, proof_fn)\n",
    "#     with open(proof_list_path, 'r') as f:\n",
    "#         sha256 = f.read()\n",
    "        \n",
    "#     label = df.loc[df['sha256'] == sha256]['triggered_by']\n",
    "    \n",
    "#     proof_dest_label_path = os.path.join(proof_or_path, label.values[0])\n",
    "#     proof_dest_path = os.path.join(proof_dest_label_path, proof_fn)\n",
    "    \n",
    "#     shutil.copy(proof_list_path, proof_dest_path)\n",
    "    \n",
    "#     os.remove(proof_list_path)\n",
    "\n",
    "\n",
    "\n",
    "\n"
   ]
  },
  {
   "cell_type": "code",
   "execution_count": null,
   "id": "725ae723-2f90-4a79-8198-19beb4ec75d3",
   "metadata": {},
   "outputs": [],
   "source": []
  }
 ],
 "metadata": {
  "kernelspec": {
   "display_name": "Python 3 (ipykernel)",
   "language": "python",
   "name": "python3"
  },
  "language_info": {
   "codemirror_mode": {
    "name": "ipython",
    "version": 3
   },
   "file_extension": ".py",
   "mimetype": "text/x-python",
   "name": "python",
   "nbconvert_exporter": "python",
   "pygments_lexer": "ipython3",
   "version": "3.9.7"
  }
 },
 "nbformat": 4,
 "nbformat_minor": 5
}
