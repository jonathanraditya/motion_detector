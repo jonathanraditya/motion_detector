{
 "cells": [
  {
   "cell_type": "markdown",
   "id": "8bde9726-5a89-460b-aaa2-09d94fb2bb97",
   "metadata": {},
   "source": [
    "Use `env:ipykernel` or `(base)`."
   ]
  },
  {
   "cell_type": "code",
   "execution_count": 9,
   "id": "b0ba8526-8577-44b2-a09f-6ce434f176e6",
   "metadata": {
    "tags": []
   },
   "outputs": [],
   "source": [
    "import os\n",
    "import shutil\n",
    "from datetime import datetime\n",
    "import time\n",
    "from global_modules import GlobalOperations\n",
    "go = GlobalOperations()\n",
    "\n",
    "origin_root = os.path.join(f'C:\\\\Users\\\\{os.getlogin()}\\\\Web\\\\CaptureFiles')\n",
    "print(f'Listening at: {origin_root}')\n",
    "root_path = os.getcwd()\n",
    "cache_path = os.path.join(root_path, 'cache')\n",
    "captured_frames_path = os.path.join(cache_path, 'captured_frames')\n",
    "os.makedirs(captured_frames_path, exist_ok=True)\n",
    "print(f'Target directory: {captured_frames_path}')\n",
    "\n",
    "def main(origin_root, captured_frames_path):\n",
    "    routers = {'outer_fence':'192.168.0.170',\n",
    "           'hallway':'192.168.0.207',\n",
    "           'garden':'192.168.0.208'}\n",
    "    routers_inversed = {v:k for k,v in routers.items()}\n",
    "    \n",
    "    origin_main_folders = os.listdir(origin_root)\n",
    "\n",
    "    # parse contents in the folder & sub-folder(s)\n",
    "    for origin_main_folder in origin_main_folders:\n",
    "        origin_subfolder_path = os.path.join(origin_root, origin_main_folder)\n",
    "        origin_subfolder_list = os.listdir(origin_subfolder_path)\n",
    "        for origin_filename in origin_subfolder_list:\n",
    "            origin_path = os.path.join(origin_subfolder_path, origin_filename)\n",
    "            break_fn = origin_filename.replace('.jpg', '').split('_')\n",
    "            label = routers_inversed[break_fn[0]]\n",
    "            # convert datetime to timestamp\n",
    "            timestamp = datetime.strptime(break_fn[2][:14], '%Y%m%d%H%M%S').timestamp()\n",
    "\n",
    "            # Target directory & filename\n",
    "            target_folder = os.path.join(captured_frames_path, label)\n",
    "            os.makedirs(target_folder, exist_ok=True)\n",
    "\n",
    "            target_path = os.path.join(target_folder, f'{timestamp}.jpg')\n",
    "\n",
    "            # Move file to /cache/captured_frames, outer_fence/hallway/garden\n",
    "            shutil.move(origin_path, target_path)\n",
    "            \n",
    "if __name__ == '__main__':\n",
    "    try:\n",
    "        print(f'{go.datetime_now()} capture_restructurer server is started')\n",
    "        # Run infinite times.\n",
    "        while True:\n",
    "            main(origin_root, captured_frames_path)\n",
    "            time.sleep(0.1)\n",
    "    except KeyboardInterrupt:\n",
    "        print(f'{go.datetime_now()} Stopping capture_restructurer server. Thank you!')"
   ]
  },
  {
   "cell_type": "code",
   "execution_count": null,
   "id": "460a6424-b804-478c-8e39-6e24138ee6d0",
   "metadata": {},
   "outputs": [],
   "source": []
  }
 ],
 "metadata": {
  "kernelspec": {
   "display_name": "Python 3 (ipykernel)",
   "language": "python",
   "name": "python3"
  },
  "language_info": {
   "codemirror_mode": {
    "name": "ipython",
    "version": 3
   },
   "file_extension": ".py",
   "mimetype": "text/x-python",
   "name": "python",
   "nbconvert_exporter": "python",
   "pygments_lexer": "ipython3",
   "version": "3.11.6"
  }
 },
 "nbformat": 4,
 "nbformat_minor": 5
}
